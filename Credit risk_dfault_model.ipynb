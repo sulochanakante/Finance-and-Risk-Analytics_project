{
 "cells": [
  {
   "cell_type": "code",
   "execution_count": null,
   "id": "96a1d4ae",
   "metadata": {},
   "outputs": [],
   "source": []
  },
  {
   "cell_type": "markdown",
   "id": "70fbbba4",
   "metadata": {},
   "source": [
    "# Indian credit risk(default)"
   ]
  },
  {
   "cell_type": "markdown",
   "id": "1004b069",
   "metadata": {},
   "source": [
    "# Problem Statement"
   ]
  },
  {
   "cell_type": "code",
   "execution_count": 52,
   "id": "77190b11",
   "metadata": {},
   "outputs": [],
   "source": [
    "# Importing the libraries\n",
    "import numpy as np\n",
    "import matplotlib.pyplot as plt\n",
    "import pandas as pd\n",
    "import seaborn as sns # for making plots with seaborn\n",
    "color = sns.color_palette()\n",
    "import sklearn.metrics as metrics\n",
    "\n",
    "import warnings\n",
    "warnings.filterwarnings(\"ignore\")"
   ]
  },
  {
   "cell_type": "markdown",
   "id": "e4a5f5d1",
   "metadata": {},
   "source": [
    "# Importing the dataset"
   ]
  },
  {
   "cell_type": "code",
   "execution_count": 53,
   "id": "5d522945",
   "metadata": {},
   "outputs": [],
   "source": [
    "df = pd.read_csv('Company(FRA).csv')"
   ]
  },
  {
   "cell_type": "markdown",
   "id": "34c04e6b",
   "metadata": {},
   "source": [
    "## Glimpse of Data"
   ]
  },
  {
   "cell_type": "code",
   "execution_count": 54,
   "id": "02df9a9f",
   "metadata": {},
   "outputs": [
    {
     "data": {
      "text/html": [
       "<div>\n",
       "<style scoped>\n",
       "    .dataframe tbody tr th:only-of-type {\n",
       "        vertical-align: middle;\n",
       "    }\n",
       "\n",
       "    .dataframe tbody tr th {\n",
       "        vertical-align: top;\n",
       "    }\n",
       "\n",
       "    .dataframe thead th {\n",
       "        text-align: right;\n",
       "    }\n",
       "</style>\n",
       "<table border=\"1\" class=\"dataframe\">\n",
       "  <thead>\n",
       "    <tr style=\"text-align: right;\">\n",
       "      <th></th>\n",
       "      <th>Num</th>\n",
       "      <th>Networth Next Year</th>\n",
       "      <th>Total assets</th>\n",
       "      <th>Net worth</th>\n",
       "      <th>Total income</th>\n",
       "      <th>Change in stock</th>\n",
       "      <th>Total expenses</th>\n",
       "      <th>Profit after tax</th>\n",
       "      <th>PBDITA</th>\n",
       "      <th>PBT</th>\n",
       "      <th>...</th>\n",
       "      <th>Debtors turnover</th>\n",
       "      <th>Finished goods turnover</th>\n",
       "      <th>WIP turnover</th>\n",
       "      <th>Raw material turnover</th>\n",
       "      <th>Shares outstanding</th>\n",
       "      <th>Equity face value</th>\n",
       "      <th>EPS</th>\n",
       "      <th>Adjusted EPS</th>\n",
       "      <th>Total liabilities</th>\n",
       "      <th>PE on BSE</th>\n",
       "    </tr>\n",
       "  </thead>\n",
       "  <tbody>\n",
       "    <tr>\n",
       "      <th>0</th>\n",
       "      <td>1</td>\n",
       "      <td>395.30</td>\n",
       "      <td>827.60</td>\n",
       "      <td>336.50</td>\n",
       "      <td>534.10</td>\n",
       "      <td>13.50</td>\n",
       "      <td>508.70</td>\n",
       "      <td>38.90</td>\n",
       "      <td>124.40</td>\n",
       "      <td>64.60</td>\n",
       "      <td>...</td>\n",
       "      <td>5.65</td>\n",
       "      <td>3.99</td>\n",
       "      <td>3.37</td>\n",
       "      <td>14.87</td>\n",
       "      <td>8760056.00</td>\n",
       "      <td>10.00</td>\n",
       "      <td>4.44</td>\n",
       "      <td>4.44</td>\n",
       "      <td>827.60</td>\n",
       "      <td>NaN</td>\n",
       "    </tr>\n",
       "    <tr>\n",
       "      <th>1</th>\n",
       "      <td>2</td>\n",
       "      <td>36.20</td>\n",
       "      <td>67.70</td>\n",
       "      <td>24.30</td>\n",
       "      <td>137.90</td>\n",
       "      <td>-3.70</td>\n",
       "      <td>131.00</td>\n",
       "      <td>3.20</td>\n",
       "      <td>5.50</td>\n",
       "      <td>1.00</td>\n",
       "      <td>...</td>\n",
       "      <td>NaN</td>\n",
       "      <td>NaN</td>\n",
       "      <td>NaN</td>\n",
       "      <td>NaN</td>\n",
       "      <td>NaN</td>\n",
       "      <td>NaN</td>\n",
       "      <td>0.00</td>\n",
       "      <td>0.00</td>\n",
       "      <td>67.70</td>\n",
       "      <td>NaN</td>\n",
       "    </tr>\n",
       "    <tr>\n",
       "      <th>2</th>\n",
       "      <td>3</td>\n",
       "      <td>84.00</td>\n",
       "      <td>238.40</td>\n",
       "      <td>78.90</td>\n",
       "      <td>331.20</td>\n",
       "      <td>-18.10</td>\n",
       "      <td>309.20</td>\n",
       "      <td>3.90</td>\n",
       "      <td>25.80</td>\n",
       "      <td>10.50</td>\n",
       "      <td>...</td>\n",
       "      <td>2.51</td>\n",
       "      <td>17.67</td>\n",
       "      <td>8.76</td>\n",
       "      <td>8.35</td>\n",
       "      <td>NaN</td>\n",
       "      <td>NaN</td>\n",
       "      <td>0.00</td>\n",
       "      <td>0.00</td>\n",
       "      <td>238.40</td>\n",
       "      <td>NaN</td>\n",
       "    </tr>\n",
       "    <tr>\n",
       "      <th>3</th>\n",
       "      <td>4</td>\n",
       "      <td>2041.40</td>\n",
       "      <td>6883.50</td>\n",
       "      <td>1443.30</td>\n",
       "      <td>8448.50</td>\n",
       "      <td>212.20</td>\n",
       "      <td>8482.40</td>\n",
       "      <td>178.30</td>\n",
       "      <td>418.40</td>\n",
       "      <td>185.10</td>\n",
       "      <td>...</td>\n",
       "      <td>1.91</td>\n",
       "      <td>18.14</td>\n",
       "      <td>18.62</td>\n",
       "      <td>11.11</td>\n",
       "      <td>10000000.00</td>\n",
       "      <td>10.00</td>\n",
       "      <td>17.60</td>\n",
       "      <td>17.60</td>\n",
       "      <td>6883.50</td>\n",
       "      <td>NaN</td>\n",
       "    </tr>\n",
       "    <tr>\n",
       "      <th>4</th>\n",
       "      <td>5</td>\n",
       "      <td>41.80</td>\n",
       "      <td>90.90</td>\n",
       "      <td>47.00</td>\n",
       "      <td>388.60</td>\n",
       "      <td>3.40</td>\n",
       "      <td>392.70</td>\n",
       "      <td>-0.70</td>\n",
       "      <td>7.20</td>\n",
       "      <td>-0.60</td>\n",
       "      <td>...</td>\n",
       "      <td>68.00</td>\n",
       "      <td>45.87</td>\n",
       "      <td>28.67</td>\n",
       "      <td>19.93</td>\n",
       "      <td>107315.00</td>\n",
       "      <td>100.00</td>\n",
       "      <td>-6.52</td>\n",
       "      <td>-6.52</td>\n",
       "      <td>90.90</td>\n",
       "      <td>NaN</td>\n",
       "    </tr>\n",
       "  </tbody>\n",
       "</table>\n",
       "<p>5 rows × 51 columns</p>\n",
       "</div>"
      ],
      "text/plain": [
       "   Num  Networth Next Year  Total assets  Net worth  Total income  \\\n",
       "0    1              395.30        827.60     336.50        534.10   \n",
       "1    2               36.20         67.70      24.30        137.90   \n",
       "2    3               84.00        238.40      78.90        331.20   \n",
       "3    4             2041.40       6883.50    1443.30       8448.50   \n",
       "4    5               41.80         90.90      47.00        388.60   \n",
       "\n",
       "   Change in stock  Total expenses  Profit after tax  PBDITA    PBT  ...  \\\n",
       "0            13.50          508.70             38.90  124.40  64.60  ...   \n",
       "1            -3.70          131.00              3.20    5.50   1.00  ...   \n",
       "2           -18.10          309.20              3.90   25.80  10.50  ...   \n",
       "3           212.20         8482.40            178.30  418.40 185.10  ...   \n",
       "4             3.40          392.70             -0.70    7.20  -0.60  ...   \n",
       "\n",
       "   Debtors turnover  Finished goods turnover  WIP turnover  \\\n",
       "0              5.65                     3.99          3.37   \n",
       "1               NaN                      NaN           NaN   \n",
       "2              2.51                    17.67          8.76   \n",
       "3              1.91                    18.14         18.62   \n",
       "4             68.00                    45.87         28.67   \n",
       "\n",
       "   Raw material turnover  Shares outstanding  Equity face value   EPS  \\\n",
       "0                  14.87          8760056.00              10.00  4.44   \n",
       "1                    NaN                 NaN                NaN  0.00   \n",
       "2                   8.35                 NaN                NaN  0.00   \n",
       "3                  11.11         10000000.00              10.00 17.60   \n",
       "4                  19.93           107315.00             100.00 -6.52   \n",
       "\n",
       "   Adjusted EPS  Total liabilities  PE on BSE  \n",
       "0          4.44             827.60        NaN  \n",
       "1          0.00              67.70        NaN  \n",
       "2          0.00             238.40        NaN  \n",
       "3         17.60            6883.50        NaN  \n",
       "4         -6.52              90.90        NaN  \n",
       "\n",
       "[5 rows x 51 columns]"
      ]
     },
     "execution_count": 54,
     "metadata": {},
     "output_type": "execute_result"
    }
   ],
   "source": [
    "df.head()"
   ]
  },
  {
   "cell_type": "code",
   "execution_count": 55,
   "id": "92131c13",
   "metadata": {},
   "outputs": [
    {
     "data": {
      "text/html": [
       "<div>\n",
       "<style scoped>\n",
       "    .dataframe tbody tr th:only-of-type {\n",
       "        vertical-align: middle;\n",
       "    }\n",
       "\n",
       "    .dataframe tbody tr th {\n",
       "        vertical-align: top;\n",
       "    }\n",
       "\n",
       "    .dataframe thead th {\n",
       "        text-align: right;\n",
       "    }\n",
       "</style>\n",
       "<table border=\"1\" class=\"dataframe\">\n",
       "  <thead>\n",
       "    <tr style=\"text-align: right;\">\n",
       "      <th></th>\n",
       "      <th>Num</th>\n",
       "      <th>Networth Next Year</th>\n",
       "      <th>Total assets</th>\n",
       "      <th>Net worth</th>\n",
       "      <th>Total income</th>\n",
       "      <th>Change in stock</th>\n",
       "      <th>Total expenses</th>\n",
       "      <th>Profit after tax</th>\n",
       "      <th>PBDITA</th>\n",
       "      <th>PBT</th>\n",
       "      <th>...</th>\n",
       "      <th>Debtors turnover</th>\n",
       "      <th>Finished goods turnover</th>\n",
       "      <th>WIP turnover</th>\n",
       "      <th>Raw material turnover</th>\n",
       "      <th>Shares outstanding</th>\n",
       "      <th>Equity face value</th>\n",
       "      <th>EPS</th>\n",
       "      <th>Adjusted EPS</th>\n",
       "      <th>Total liabilities</th>\n",
       "      <th>PE on BSE</th>\n",
       "    </tr>\n",
       "  </thead>\n",
       "  <tbody>\n",
       "    <tr>\n",
       "      <th>4251</th>\n",
       "      <td>4252</td>\n",
       "      <td>0.20</td>\n",
       "      <td>0.40</td>\n",
       "      <td>0.20</td>\n",
       "      <td>NaN</td>\n",
       "      <td>NaN</td>\n",
       "      <td>NaN</td>\n",
       "      <td>NaN</td>\n",
       "      <td>NaN</td>\n",
       "      <td>NaN</td>\n",
       "      <td>...</td>\n",
       "      <td>0.00</td>\n",
       "      <td>NaN</td>\n",
       "      <td>NaN</td>\n",
       "      <td>0.00</td>\n",
       "      <td>NaN</td>\n",
       "      <td>NaN</td>\n",
       "      <td>0.00</td>\n",
       "      <td>0.00</td>\n",
       "      <td>0.40</td>\n",
       "      <td>NaN</td>\n",
       "    </tr>\n",
       "    <tr>\n",
       "      <th>4252</th>\n",
       "      <td>4253</td>\n",
       "      <td>93.30</td>\n",
       "      <td>159.60</td>\n",
       "      <td>86.70</td>\n",
       "      <td>172.90</td>\n",
       "      <td>0.10</td>\n",
       "      <td>169.70</td>\n",
       "      <td>3.30</td>\n",
       "      <td>18.40</td>\n",
       "      <td>3.70</td>\n",
       "      <td>...</td>\n",
       "      <td>1.80</td>\n",
       "      <td>11.00</td>\n",
       "      <td>8.28</td>\n",
       "      <td>9.88</td>\n",
       "      <td>8162700.00</td>\n",
       "      <td>10.00</td>\n",
       "      <td>0.42</td>\n",
       "      <td>0.42</td>\n",
       "      <td>159.60</td>\n",
       "      <td>16.81</td>\n",
       "    </tr>\n",
       "    <tr>\n",
       "      <th>4253</th>\n",
       "      <td>4254</td>\n",
       "      <td>932.20</td>\n",
       "      <td>833.80</td>\n",
       "      <td>664.60</td>\n",
       "      <td>2314.70</td>\n",
       "      <td>32.10</td>\n",
       "      <td>2151.60</td>\n",
       "      <td>195.20</td>\n",
       "      <td>348.40</td>\n",
       "      <td>303.00</td>\n",
       "      <td>...</td>\n",
       "      <td>6.08</td>\n",
       "      <td>59.28</td>\n",
       "      <td>31.14</td>\n",
       "      <td>9.87</td>\n",
       "      <td>7479762.00</td>\n",
       "      <td>10.00</td>\n",
       "      <td>26.58</td>\n",
       "      <td>26.58</td>\n",
       "      <td>833.80</td>\n",
       "      <td>5.69</td>\n",
       "    </tr>\n",
       "    <tr>\n",
       "      <th>4254</th>\n",
       "      <td>4255</td>\n",
       "      <td>64.60</td>\n",
       "      <td>95.00</td>\n",
       "      <td>48.50</td>\n",
       "      <td>110.50</td>\n",
       "      <td>4.60</td>\n",
       "      <td>113.50</td>\n",
       "      <td>1.60</td>\n",
       "      <td>9.70</td>\n",
       "      <td>2.60</td>\n",
       "      <td>...</td>\n",
       "      <td>3.71</td>\n",
       "      <td>78.99</td>\n",
       "      <td>11.51</td>\n",
       "      <td>14.95</td>\n",
       "      <td>NaN</td>\n",
       "      <td>NaN</td>\n",
       "      <td>0.00</td>\n",
       "      <td>0.00</td>\n",
       "      <td>95.00</td>\n",
       "      <td>NaN</td>\n",
       "    </tr>\n",
       "    <tr>\n",
       "      <th>4255</th>\n",
       "      <td>4256</td>\n",
       "      <td>0.00</td>\n",
       "      <td>384.60</td>\n",
       "      <td>111.30</td>\n",
       "      <td>345.80</td>\n",
       "      <td>11.30</td>\n",
       "      <td>341.70</td>\n",
       "      <td>15.40</td>\n",
       "      <td>57.60</td>\n",
       "      <td>20.70</td>\n",
       "      <td>...</td>\n",
       "      <td>4.71</td>\n",
       "      <td>53.37</td>\n",
       "      <td>8.33</td>\n",
       "      <td>3.74</td>\n",
       "      <td>960000.00</td>\n",
       "      <td>10.00</td>\n",
       "      <td>15.63</td>\n",
       "      <td>15.63</td>\n",
       "      <td>384.60</td>\n",
       "      <td>NaN</td>\n",
       "    </tr>\n",
       "  </tbody>\n",
       "</table>\n",
       "<p>5 rows × 51 columns</p>\n",
       "</div>"
      ],
      "text/plain": [
       "       Num  Networth Next Year  Total assets  Net worth  Total income  \\\n",
       "4251  4252                0.20          0.40       0.20           NaN   \n",
       "4252  4253               93.30        159.60      86.70        172.90   \n",
       "4253  4254              932.20        833.80     664.60       2314.70   \n",
       "4254  4255               64.60         95.00      48.50        110.50   \n",
       "4255  4256                0.00        384.60     111.30        345.80   \n",
       "\n",
       "      Change in stock  Total expenses  Profit after tax  PBDITA    PBT  ...  \\\n",
       "4251              NaN             NaN               NaN     NaN    NaN  ...   \n",
       "4252             0.10          169.70              3.30   18.40   3.70  ...   \n",
       "4253            32.10         2151.60            195.20  348.40 303.00  ...   \n",
       "4254             4.60          113.50              1.60    9.70   2.60  ...   \n",
       "4255            11.30          341.70             15.40   57.60  20.70  ...   \n",
       "\n",
       "      Debtors turnover  Finished goods turnover  WIP turnover  \\\n",
       "4251              0.00                      NaN           NaN   \n",
       "4252              1.80                    11.00          8.28   \n",
       "4253              6.08                    59.28         31.14   \n",
       "4254              3.71                    78.99         11.51   \n",
       "4255              4.71                    53.37          8.33   \n",
       "\n",
       "      Raw material turnover  Shares outstanding  Equity face value   EPS  \\\n",
       "4251                   0.00                 NaN                NaN  0.00   \n",
       "4252                   9.88          8162700.00              10.00  0.42   \n",
       "4253                   9.87          7479762.00              10.00 26.58   \n",
       "4254                  14.95                 NaN                NaN  0.00   \n",
       "4255                   3.74           960000.00              10.00 15.63   \n",
       "\n",
       "      Adjusted EPS  Total liabilities  PE on BSE  \n",
       "4251          0.00               0.40        NaN  \n",
       "4252          0.42             159.60      16.81  \n",
       "4253         26.58             833.80       5.69  \n",
       "4254          0.00              95.00        NaN  \n",
       "4255         15.63             384.60        NaN  \n",
       "\n",
       "[5 rows x 51 columns]"
      ]
     },
     "execution_count": 55,
     "metadata": {},
     "output_type": "execute_result"
    }
   ],
   "source": [
    "df.tail()"
   ]
  },
  {
   "cell_type": "markdown",
   "id": "27556a95",
   "metadata": {},
   "source": [
    "## Fixing messy column names (containing spaces) for ease of use"
   ]
  },
  {
   "cell_type": "code",
   "execution_count": 56,
   "id": "7f4d0d9b",
   "metadata": {},
   "outputs": [],
   "source": [
    "df.columns = df.columns.str.replace(' ', '_').str.replace('(', '').str.replace(')', '').str.replace('.','').str.replace('%', 'perc_').str.replace('/', '_to_').str.replace('[','').str.replace(']','')"
   ]
  },
  {
   "cell_type": "code",
   "execution_count": 57,
   "id": "599a05f1",
   "metadata": {},
   "outputs": [
    {
     "data": {
      "text/html": [
       "<div>\n",
       "<style scoped>\n",
       "    .dataframe tbody tr th:only-of-type {\n",
       "        vertical-align: middle;\n",
       "    }\n",
       "\n",
       "    .dataframe tbody tr th {\n",
       "        vertical-align: top;\n",
       "    }\n",
       "\n",
       "    .dataframe thead th {\n",
       "        text-align: right;\n",
       "    }\n",
       "</style>\n",
       "<table border=\"1\" class=\"dataframe\">\n",
       "  <thead>\n",
       "    <tr style=\"text-align: right;\">\n",
       "      <th></th>\n",
       "      <th>Num</th>\n",
       "      <th>Networth_Next_Year</th>\n",
       "      <th>Total_assets</th>\n",
       "      <th>Net_worth</th>\n",
       "      <th>Total_income</th>\n",
       "      <th>Change_in_stock</th>\n",
       "      <th>Total_expenses</th>\n",
       "      <th>Profit_after_tax</th>\n",
       "      <th>PBDITA</th>\n",
       "      <th>PBT</th>\n",
       "      <th>...</th>\n",
       "      <th>Debtors_turnover</th>\n",
       "      <th>Finished_goods_turnover</th>\n",
       "      <th>WIP_turnover</th>\n",
       "      <th>Raw_material_turnover</th>\n",
       "      <th>Shares_outstanding</th>\n",
       "      <th>Equity_face_value</th>\n",
       "      <th>EPS</th>\n",
       "      <th>Adjusted_EPS</th>\n",
       "      <th>Total_liabilities</th>\n",
       "      <th>PE_on_BSE</th>\n",
       "    </tr>\n",
       "  </thead>\n",
       "  <tbody>\n",
       "    <tr>\n",
       "      <th>0</th>\n",
       "      <td>1</td>\n",
       "      <td>395.30</td>\n",
       "      <td>827.60</td>\n",
       "      <td>336.50</td>\n",
       "      <td>534.10</td>\n",
       "      <td>13.50</td>\n",
       "      <td>508.70</td>\n",
       "      <td>38.90</td>\n",
       "      <td>124.40</td>\n",
       "      <td>64.60</td>\n",
       "      <td>...</td>\n",
       "      <td>5.65</td>\n",
       "      <td>3.99</td>\n",
       "      <td>3.37</td>\n",
       "      <td>14.87</td>\n",
       "      <td>8760056.00</td>\n",
       "      <td>10.00</td>\n",
       "      <td>4.44</td>\n",
       "      <td>4.44</td>\n",
       "      <td>827.60</td>\n",
       "      <td>NaN</td>\n",
       "    </tr>\n",
       "    <tr>\n",
       "      <th>1</th>\n",
       "      <td>2</td>\n",
       "      <td>36.20</td>\n",
       "      <td>67.70</td>\n",
       "      <td>24.30</td>\n",
       "      <td>137.90</td>\n",
       "      <td>-3.70</td>\n",
       "      <td>131.00</td>\n",
       "      <td>3.20</td>\n",
       "      <td>5.50</td>\n",
       "      <td>1.00</td>\n",
       "      <td>...</td>\n",
       "      <td>NaN</td>\n",
       "      <td>NaN</td>\n",
       "      <td>NaN</td>\n",
       "      <td>NaN</td>\n",
       "      <td>NaN</td>\n",
       "      <td>NaN</td>\n",
       "      <td>0.00</td>\n",
       "      <td>0.00</td>\n",
       "      <td>67.70</td>\n",
       "      <td>NaN</td>\n",
       "    </tr>\n",
       "    <tr>\n",
       "      <th>2</th>\n",
       "      <td>3</td>\n",
       "      <td>84.00</td>\n",
       "      <td>238.40</td>\n",
       "      <td>78.90</td>\n",
       "      <td>331.20</td>\n",
       "      <td>-18.10</td>\n",
       "      <td>309.20</td>\n",
       "      <td>3.90</td>\n",
       "      <td>25.80</td>\n",
       "      <td>10.50</td>\n",
       "      <td>...</td>\n",
       "      <td>2.51</td>\n",
       "      <td>17.67</td>\n",
       "      <td>8.76</td>\n",
       "      <td>8.35</td>\n",
       "      <td>NaN</td>\n",
       "      <td>NaN</td>\n",
       "      <td>0.00</td>\n",
       "      <td>0.00</td>\n",
       "      <td>238.40</td>\n",
       "      <td>NaN</td>\n",
       "    </tr>\n",
       "    <tr>\n",
       "      <th>3</th>\n",
       "      <td>4</td>\n",
       "      <td>2041.40</td>\n",
       "      <td>6883.50</td>\n",
       "      <td>1443.30</td>\n",
       "      <td>8448.50</td>\n",
       "      <td>212.20</td>\n",
       "      <td>8482.40</td>\n",
       "      <td>178.30</td>\n",
       "      <td>418.40</td>\n",
       "      <td>185.10</td>\n",
       "      <td>...</td>\n",
       "      <td>1.91</td>\n",
       "      <td>18.14</td>\n",
       "      <td>18.62</td>\n",
       "      <td>11.11</td>\n",
       "      <td>10000000.00</td>\n",
       "      <td>10.00</td>\n",
       "      <td>17.60</td>\n",
       "      <td>17.60</td>\n",
       "      <td>6883.50</td>\n",
       "      <td>NaN</td>\n",
       "    </tr>\n",
       "    <tr>\n",
       "      <th>4</th>\n",
       "      <td>5</td>\n",
       "      <td>41.80</td>\n",
       "      <td>90.90</td>\n",
       "      <td>47.00</td>\n",
       "      <td>388.60</td>\n",
       "      <td>3.40</td>\n",
       "      <td>392.70</td>\n",
       "      <td>-0.70</td>\n",
       "      <td>7.20</td>\n",
       "      <td>-0.60</td>\n",
       "      <td>...</td>\n",
       "      <td>68.00</td>\n",
       "      <td>45.87</td>\n",
       "      <td>28.67</td>\n",
       "      <td>19.93</td>\n",
       "      <td>107315.00</td>\n",
       "      <td>100.00</td>\n",
       "      <td>-6.52</td>\n",
       "      <td>-6.52</td>\n",
       "      <td>90.90</td>\n",
       "      <td>NaN</td>\n",
       "    </tr>\n",
       "  </tbody>\n",
       "</table>\n",
       "<p>5 rows × 51 columns</p>\n",
       "</div>"
      ],
      "text/plain": [
       "   Num  Networth_Next_Year  Total_assets  Net_worth  Total_income  \\\n",
       "0    1              395.30        827.60     336.50        534.10   \n",
       "1    2               36.20         67.70      24.30        137.90   \n",
       "2    3               84.00        238.40      78.90        331.20   \n",
       "3    4             2041.40       6883.50    1443.30       8448.50   \n",
       "4    5               41.80         90.90      47.00        388.60   \n",
       "\n",
       "   Change_in_stock  Total_expenses  Profit_after_tax  PBDITA    PBT  ...  \\\n",
       "0            13.50          508.70             38.90  124.40  64.60  ...   \n",
       "1            -3.70          131.00              3.20    5.50   1.00  ...   \n",
       "2           -18.10          309.20              3.90   25.80  10.50  ...   \n",
       "3           212.20         8482.40            178.30  418.40 185.10  ...   \n",
       "4             3.40          392.70             -0.70    7.20  -0.60  ...   \n",
       "\n",
       "   Debtors_turnover  Finished_goods_turnover  WIP_turnover  \\\n",
       "0              5.65                     3.99          3.37   \n",
       "1               NaN                      NaN           NaN   \n",
       "2              2.51                    17.67          8.76   \n",
       "3              1.91                    18.14         18.62   \n",
       "4             68.00                    45.87         28.67   \n",
       "\n",
       "   Raw_material_turnover  Shares_outstanding  Equity_face_value   EPS  \\\n",
       "0                  14.87          8760056.00              10.00  4.44   \n",
       "1                    NaN                 NaN                NaN  0.00   \n",
       "2                   8.35                 NaN                NaN  0.00   \n",
       "3                  11.11         10000000.00              10.00 17.60   \n",
       "4                  19.93           107315.00             100.00 -6.52   \n",
       "\n",
       "   Adjusted_EPS  Total_liabilities  PE_on_BSE  \n",
       "0          4.44             827.60        NaN  \n",
       "1          0.00              67.70        NaN  \n",
       "2          0.00             238.40        NaN  \n",
       "3         17.60            6883.50        NaN  \n",
       "4         -6.52              90.90        NaN  \n",
       "\n",
       "[5 rows x 51 columns]"
      ]
     },
     "execution_count": 57,
     "metadata": {},
     "output_type": "execute_result"
    }
   ],
   "source": [
    "df.head()"
   ]
  },
  {
   "cell_type": "code",
   "execution_count": 58,
   "id": "108625f7",
   "metadata": {},
   "outputs": [
    {
     "data": {
      "text/plain": [
       "Index(['Num', 'Networth_Next_Year', 'Total_assets', 'Net_worth',\n",
       "       'Total_income', 'Change_in_stock', 'Total_expenses', 'Profit_after_tax',\n",
       "       'PBDITA', 'PBT', 'Cash_profit', 'PBDITA_as_perc__of_total_income',\n",
       "       'PBT_as_perc__of_total_income', 'PAT_as_perc__of_total_income',\n",
       "       'Cash_profit_as_perc__of_total_income', 'PAT_as_perc__of_net_worth',\n",
       "       'Sales', 'Income_from_fincial_services', 'Other_income',\n",
       "       'Total_capital', 'Reserves_and_funds', 'Borrowings',\n",
       "       'Current_liabilities_&_provisions', 'Deferred_tax_liability',\n",
       "       'Shareholders_funds', 'Cumulative_retained_profits', 'Capital_employed',\n",
       "       'TOL_to_TNW', 'Total_term_liabilities__to__tangible_net_worth',\n",
       "       'Contingent_liabilities__to__Net_worth_perc_', 'Contingent_liabilities',\n",
       "       'Net_fixed_assets', 'Investments', 'Current_assets',\n",
       "       'Net_working_capital', 'Quick_ratio_times', 'Current_ratio_times',\n",
       "       'Debt_to_equity_ratio_times', 'Cash_to_current_liabilities_times',\n",
       "       'Cash_to_average_cost_of_sales_per_day', 'Creditors_turnover',\n",
       "       'Debtors_turnover', 'Finished_goods_turnover', 'WIP_turnover',\n",
       "       'Raw_material_turnover', 'Shares_outstanding', 'Equity_face_value',\n",
       "       'EPS', 'Adjusted_EPS', 'Total_liabilities', 'PE_on_BSE'],\n",
       "      dtype='object')"
      ]
     },
     "execution_count": 58,
     "metadata": {},
     "output_type": "execute_result"
    }
   ],
   "source": [
    "df.columns "
   ]
  },
  {
   "cell_type": "markdown",
   "id": "6463efcb",
   "metadata": {},
   "source": [
    "Now, let us check the number of rows (observations) and the number of columns (variables)"
   ]
  },
  {
   "cell_type": "code",
   "execution_count": 59,
   "id": "4edb416a",
   "metadata": {},
   "outputs": [
    {
     "name": "stdout",
     "output_type": "stream",
     "text": [
      "The number of rows (observations) is 4256 \n",
      "The number of columns (variables) is 51\n"
     ]
    }
   ],
   "source": [
    "print('The number of rows (observations) is',df.shape[0],'\\n''The number of columns (variables) is',df.shape[1])"
   ]
  },
  {
   "cell_type": "markdown",
   "id": "3deca39e",
   "metadata": {},
   "source": [
    "## Checking datatype of all columns"
   ]
  },
  {
   "cell_type": "code",
   "execution_count": 60,
   "id": "c7217c50",
   "metadata": {
    "scrolled": false
   },
   "outputs": [
    {
     "name": "stdout",
     "output_type": "stream",
     "text": [
      "<class 'pandas.core.frame.DataFrame'>\n",
      "RangeIndex: 4256 entries, 0 to 4255\n",
      "Data columns (total 51 columns):\n",
      " #   Column                                          Non-Null Count  Dtype  \n",
      "---  ------                                          --------------  -----  \n",
      " 0   Num                                             4256 non-null   int64  \n",
      " 1   Networth_Next_Year                              4256 non-null   float64\n",
      " 2   Total_assets                                    4256 non-null   float64\n",
      " 3   Net_worth                                       4256 non-null   float64\n",
      " 4   Total_income                                    4025 non-null   float64\n",
      " 5   Change_in_stock                                 3706 non-null   float64\n",
      " 6   Total_expenses                                  4091 non-null   float64\n",
      " 7   Profit_after_tax                                4102 non-null   float64\n",
      " 8   PBDITA                                          4102 non-null   float64\n",
      " 9   PBT                                             4102 non-null   float64\n",
      " 10  Cash_profit                                     4102 non-null   float64\n",
      " 11  PBDITA_as_perc__of_total_income                 4177 non-null   float64\n",
      " 12  PBT_as_perc__of_total_income                    4177 non-null   float64\n",
      " 13  PAT_as_perc__of_total_income                    4177 non-null   float64\n",
      " 14  Cash_profit_as_perc__of_total_income            4177 non-null   float64\n",
      " 15  PAT_as_perc__of_net_worth                       4256 non-null   float64\n",
      " 16  Sales                                           3951 non-null   float64\n",
      " 17  Income_from_fincial_services                    3145 non-null   float64\n",
      " 18  Other_income                                    2700 non-null   float64\n",
      " 19  Total_capital                                   4251 non-null   float64\n",
      " 20  Reserves_and_funds                              4158 non-null   float64\n",
      " 21  Borrowings                                      3825 non-null   float64\n",
      " 22  Current_liabilities_&_provisions                4146 non-null   float64\n",
      " 23  Deferred_tax_liability                          2887 non-null   float64\n",
      " 24  Shareholders_funds                              4256 non-null   float64\n",
      " 25  Cumulative_retained_profits                     4211 non-null   float64\n",
      " 26  Capital_employed                                4256 non-null   float64\n",
      " 27  TOL_to_TNW                                      4256 non-null   float64\n",
      " 28  Total_term_liabilities__to__tangible_net_worth  4256 non-null   float64\n",
      " 29  Contingent_liabilities__to__Net_worth_perc_     4256 non-null   float64\n",
      " 30  Contingent_liabilities                          2854 non-null   float64\n",
      " 31  Net_fixed_assets                                4124 non-null   float64\n",
      " 32  Investments                                     2541 non-null   float64\n",
      " 33  Current_assets                                  4176 non-null   float64\n",
      " 34  Net_working_capital                             4219 non-null   float64\n",
      " 35  Quick_ratio_times                               4151 non-null   float64\n",
      " 36  Current_ratio_times                             4151 non-null   float64\n",
      " 37  Debt_to_equity_ratio_times                      4256 non-null   float64\n",
      " 38  Cash_to_current_liabilities_times               4151 non-null   float64\n",
      " 39  Cash_to_average_cost_of_sales_per_day           4156 non-null   float64\n",
      " 40  Creditors_turnover                              3865 non-null   float64\n",
      " 41  Debtors_turnover                                3871 non-null   float64\n",
      " 42  Finished_goods_turnover                         3382 non-null   float64\n",
      " 43  WIP_turnover                                    3492 non-null   float64\n",
      " 44  Raw_material_turnover                           3828 non-null   float64\n",
      " 45  Shares_outstanding                              3446 non-null   float64\n",
      " 46  Equity_face_value                               3446 non-null   float64\n",
      " 47  EPS                                             4256 non-null   float64\n",
      " 48  Adjusted_EPS                                    4256 non-null   float64\n",
      " 49  Total_liabilities                               4256 non-null   float64\n",
      " 50  PE_on_BSE                                       1629 non-null   float64\n",
      "dtypes: float64(50), int64(1)\n",
      "memory usage: 1.7 MB\n"
     ]
    }
   ],
   "source": [
    "df.info()"
   ]
  },
  {
   "cell_type": "markdown",
   "id": "02b61f93",
   "metadata": {},
   "source": [
    "Now, let us check the basic measures of descriptive statistics for the continuous variables"
   ]
  },
  {
   "cell_type": "code",
   "execution_count": 61,
   "id": "ce89ea5d",
   "metadata": {},
   "outputs": [
    {
     "data": {
      "text/html": [
       "<div>\n",
       "<style scoped>\n",
       "    .dataframe tbody tr th:only-of-type {\n",
       "        vertical-align: middle;\n",
       "    }\n",
       "\n",
       "    .dataframe tbody tr th {\n",
       "        vertical-align: top;\n",
       "    }\n",
       "\n",
       "    .dataframe thead th {\n",
       "        text-align: right;\n",
       "    }\n",
       "</style>\n",
       "<table border=\"1\" class=\"dataframe\">\n",
       "  <thead>\n",
       "    <tr style=\"text-align: right;\">\n",
       "      <th></th>\n",
       "      <th>Num</th>\n",
       "      <th>Networth_Next_Year</th>\n",
       "      <th>Total_assets</th>\n",
       "      <th>Net_worth</th>\n",
       "      <th>Total_income</th>\n",
       "      <th>Change_in_stock</th>\n",
       "      <th>Total_expenses</th>\n",
       "      <th>Profit_after_tax</th>\n",
       "      <th>PBDITA</th>\n",
       "      <th>PBT</th>\n",
       "      <th>...</th>\n",
       "      <th>Debtors_turnover</th>\n",
       "      <th>Finished_goods_turnover</th>\n",
       "      <th>WIP_turnover</th>\n",
       "      <th>Raw_material_turnover</th>\n",
       "      <th>Shares_outstanding</th>\n",
       "      <th>Equity_face_value</th>\n",
       "      <th>EPS</th>\n",
       "      <th>Adjusted_EPS</th>\n",
       "      <th>Total_liabilities</th>\n",
       "      <th>PE_on_BSE</th>\n",
       "    </tr>\n",
       "  </thead>\n",
       "  <tbody>\n",
       "    <tr>\n",
       "      <th>count</th>\n",
       "      <td>4256.00</td>\n",
       "      <td>4256.00</td>\n",
       "      <td>4256.00</td>\n",
       "      <td>4256.00</td>\n",
       "      <td>4025.00</td>\n",
       "      <td>3706.00</td>\n",
       "      <td>4091.00</td>\n",
       "      <td>4102.00</td>\n",
       "      <td>4102.00</td>\n",
       "      <td>4102.00</td>\n",
       "      <td>...</td>\n",
       "      <td>3871.00</td>\n",
       "      <td>3382.00</td>\n",
       "      <td>3492.00</td>\n",
       "      <td>3828.00</td>\n",
       "      <td>3446.00</td>\n",
       "      <td>3446.00</td>\n",
       "      <td>4256.00</td>\n",
       "      <td>4256.00</td>\n",
       "      <td>4256.00</td>\n",
       "      <td>1629.00</td>\n",
       "    </tr>\n",
       "    <tr>\n",
       "      <th>mean</th>\n",
       "      <td>2128.50</td>\n",
       "      <td>1344.74</td>\n",
       "      <td>3573.62</td>\n",
       "      <td>1351.95</td>\n",
       "      <td>4688.19</td>\n",
       "      <td>43.70</td>\n",
       "      <td>4356.30</td>\n",
       "      <td>295.05</td>\n",
       "      <td>605.94</td>\n",
       "      <td>410.26</td>\n",
       "      <td>...</td>\n",
       "      <td>17.93</td>\n",
       "      <td>84.37</td>\n",
       "      <td>28.68</td>\n",
       "      <td>17.73</td>\n",
       "      <td>23764909.56</td>\n",
       "      <td>-1094.83</td>\n",
       "      <td>-196.22</td>\n",
       "      <td>-197.53</td>\n",
       "      <td>3573.62</td>\n",
       "      <td>55.46</td>\n",
       "    </tr>\n",
       "    <tr>\n",
       "      <th>std</th>\n",
       "      <td>1228.75</td>\n",
       "      <td>15936.74</td>\n",
       "      <td>30074.44</td>\n",
       "      <td>12961.31</td>\n",
       "      <td>53918.95</td>\n",
       "      <td>436.92</td>\n",
       "      <td>51398.09</td>\n",
       "      <td>3079.90</td>\n",
       "      <td>5646.23</td>\n",
       "      <td>4217.42</td>\n",
       "      <td>...</td>\n",
       "      <td>90.16</td>\n",
       "      <td>562.64</td>\n",
       "      <td>169.65</td>\n",
       "      <td>343.13</td>\n",
       "      <td>170979041.33</td>\n",
       "      <td>34101.36</td>\n",
       "      <td>13061.95</td>\n",
       "      <td>13061.93</td>\n",
       "      <td>30074.44</td>\n",
       "      <td>1304.45</td>\n",
       "    </tr>\n",
       "    <tr>\n",
       "      <th>min</th>\n",
       "      <td>1.00</td>\n",
       "      <td>-74265.60</td>\n",
       "      <td>0.10</td>\n",
       "      <td>0.00</td>\n",
       "      <td>0.00</td>\n",
       "      <td>-3029.40</td>\n",
       "      <td>-0.10</td>\n",
       "      <td>-3908.30</td>\n",
       "      <td>-440.70</td>\n",
       "      <td>-3894.80</td>\n",
       "      <td>...</td>\n",
       "      <td>0.00</td>\n",
       "      <td>-0.09</td>\n",
       "      <td>-0.18</td>\n",
       "      <td>-2.00</td>\n",
       "      <td>-2147483647.00</td>\n",
       "      <td>-999998.90</td>\n",
       "      <td>-843181.82</td>\n",
       "      <td>-843181.82</td>\n",
       "      <td>0.10</td>\n",
       "      <td>-1116.64</td>\n",
       "    </tr>\n",
       "    <tr>\n",
       "      <th>25%</th>\n",
       "      <td>1064.75</td>\n",
       "      <td>3.98</td>\n",
       "      <td>91.30</td>\n",
       "      <td>31.48</td>\n",
       "      <td>107.10</td>\n",
       "      <td>-1.80</td>\n",
       "      <td>96.80</td>\n",
       "      <td>0.50</td>\n",
       "      <td>6.93</td>\n",
       "      <td>0.80</td>\n",
       "      <td>...</td>\n",
       "      <td>3.81</td>\n",
       "      <td>8.19</td>\n",
       "      <td>5.10</td>\n",
       "      <td>3.02</td>\n",
       "      <td>1308382.50</td>\n",
       "      <td>10.00</td>\n",
       "      <td>0.00</td>\n",
       "      <td>0.00</td>\n",
       "      <td>91.30</td>\n",
       "      <td>2.97</td>\n",
       "    </tr>\n",
       "    <tr>\n",
       "      <th>50%</th>\n",
       "      <td>2128.50</td>\n",
       "      <td>72.10</td>\n",
       "      <td>315.50</td>\n",
       "      <td>104.80</td>\n",
       "      <td>455.10</td>\n",
       "      <td>1.60</td>\n",
       "      <td>426.80</td>\n",
       "      <td>9.00</td>\n",
       "      <td>36.90</td>\n",
       "      <td>12.60</td>\n",
       "      <td>...</td>\n",
       "      <td>6.47</td>\n",
       "      <td>17.32</td>\n",
       "      <td>9.86</td>\n",
       "      <td>6.41</td>\n",
       "      <td>4750000.00</td>\n",
       "      <td>10.00</td>\n",
       "      <td>1.49</td>\n",
       "      <td>1.24</td>\n",
       "      <td>315.50</td>\n",
       "      <td>8.69</td>\n",
       "    </tr>\n",
       "    <tr>\n",
       "      <th>75%</th>\n",
       "      <td>3192.25</td>\n",
       "      <td>330.82</td>\n",
       "      <td>1120.80</td>\n",
       "      <td>389.85</td>\n",
       "      <td>1485.00</td>\n",
       "      <td>18.40</td>\n",
       "      <td>1395.70</td>\n",
       "      <td>53.30</td>\n",
       "      <td>158.70</td>\n",
       "      <td>74.17</td>\n",
       "      <td>...</td>\n",
       "      <td>11.85</td>\n",
       "      <td>40.01</td>\n",
       "      <td>20.24</td>\n",
       "      <td>11.82</td>\n",
       "      <td>10906020.00</td>\n",
       "      <td>10.00</td>\n",
       "      <td>10.00</td>\n",
       "      <td>7.62</td>\n",
       "      <td>1120.80</td>\n",
       "      <td>17.00</td>\n",
       "    </tr>\n",
       "    <tr>\n",
       "      <th>max</th>\n",
       "      <td>4256.00</td>\n",
       "      <td>805773.40</td>\n",
       "      <td>1176509.20</td>\n",
       "      <td>613151.60</td>\n",
       "      <td>2442828.20</td>\n",
       "      <td>14185.50</td>\n",
       "      <td>2366035.30</td>\n",
       "      <td>119439.10</td>\n",
       "      <td>208576.50</td>\n",
       "      <td>145292.60</td>\n",
       "      <td>...</td>\n",
       "      <td>3135.20</td>\n",
       "      <td>17947.60</td>\n",
       "      <td>5651.40</td>\n",
       "      <td>21092.00</td>\n",
       "      <td>4130400545.00</td>\n",
       "      <td>100000.00</td>\n",
       "      <td>34522.53</td>\n",
       "      <td>34522.53</td>\n",
       "      <td>1176509.20</td>\n",
       "      <td>51002.74</td>\n",
       "    </tr>\n",
       "  </tbody>\n",
       "</table>\n",
       "<p>8 rows × 51 columns</p>\n",
       "</div>"
      ],
      "text/plain": [
       "          Num  Networth_Next_Year  Total_assets  Net_worth  Total_income  \\\n",
       "count 4256.00             4256.00       4256.00    4256.00       4025.00   \n",
       "mean  2128.50             1344.74       3573.62    1351.95       4688.19   \n",
       "std   1228.75            15936.74      30074.44   12961.31      53918.95   \n",
       "min      1.00           -74265.60          0.10       0.00          0.00   \n",
       "25%   1064.75                3.98         91.30      31.48        107.10   \n",
       "50%   2128.50               72.10        315.50     104.80        455.10   \n",
       "75%   3192.25              330.82       1120.80     389.85       1485.00   \n",
       "max   4256.00           805773.40    1176509.20  613151.60    2442828.20   \n",
       "\n",
       "       Change_in_stock  Total_expenses  Profit_after_tax    PBDITA       PBT  \\\n",
       "count          3706.00         4091.00           4102.00   4102.00   4102.00   \n",
       "mean             43.70         4356.30            295.05    605.94    410.26   \n",
       "std             436.92        51398.09           3079.90   5646.23   4217.42   \n",
       "min           -3029.40           -0.10          -3908.30   -440.70  -3894.80   \n",
       "25%              -1.80           96.80              0.50      6.93      0.80   \n",
       "50%               1.60          426.80              9.00     36.90     12.60   \n",
       "75%              18.40         1395.70             53.30    158.70     74.17   \n",
       "max           14185.50      2366035.30         119439.10 208576.50 145292.60   \n",
       "\n",
       "       ...  Debtors_turnover  Finished_goods_turnover  WIP_turnover  \\\n",
       "count  ...           3871.00                  3382.00       3492.00   \n",
       "mean   ...             17.93                    84.37         28.68   \n",
       "std    ...             90.16                   562.64        169.65   \n",
       "min    ...              0.00                    -0.09         -0.18   \n",
       "25%    ...              3.81                     8.19          5.10   \n",
       "50%    ...              6.47                    17.32          9.86   \n",
       "75%    ...             11.85                    40.01         20.24   \n",
       "max    ...           3135.20                 17947.60       5651.40   \n",
       "\n",
       "       Raw_material_turnover  Shares_outstanding  Equity_face_value  \\\n",
       "count                3828.00             3446.00            3446.00   \n",
       "mean                   17.73         23764909.56           -1094.83   \n",
       "std                   343.13        170979041.33           34101.36   \n",
       "min                    -2.00      -2147483647.00         -999998.90   \n",
       "25%                     3.02          1308382.50              10.00   \n",
       "50%                     6.41          4750000.00              10.00   \n",
       "75%                    11.82         10906020.00              10.00   \n",
       "max                 21092.00       4130400545.00          100000.00   \n",
       "\n",
       "             EPS  Adjusted_EPS  Total_liabilities  PE_on_BSE  \n",
       "count    4256.00       4256.00            4256.00    1629.00  \n",
       "mean     -196.22       -197.53            3573.62      55.46  \n",
       "std     13061.95      13061.93           30074.44    1304.45  \n",
       "min   -843181.82    -843181.82               0.10   -1116.64  \n",
       "25%         0.00          0.00              91.30       2.97  \n",
       "50%         1.49          1.24             315.50       8.69  \n",
       "75%        10.00          7.62            1120.80      17.00  \n",
       "max     34522.53      34522.53         1176509.20   51002.74  \n",
       "\n",
       "[8 rows x 51 columns]"
      ]
     },
     "execution_count": 61,
     "metadata": {},
     "output_type": "execute_result"
    }
   ],
   "source": [
    "df.describe()"
   ]
  },
  {
   "cell_type": "code",
   "execution_count": 62,
   "id": "3ec74956",
   "metadata": {},
   "outputs": [
    {
     "data": {
      "text/html": [
       "<div>\n",
       "<style scoped>\n",
       "    .dataframe tbody tr th:only-of-type {\n",
       "        vertical-align: middle;\n",
       "    }\n",
       "\n",
       "    .dataframe tbody tr th {\n",
       "        vertical-align: top;\n",
       "    }\n",
       "\n",
       "    .dataframe thead th {\n",
       "        text-align: right;\n",
       "    }\n",
       "</style>\n",
       "<table border=\"1\" class=\"dataframe\">\n",
       "  <thead>\n",
       "    <tr style=\"text-align: right;\">\n",
       "      <th></th>\n",
       "      <th>Num</th>\n",
       "      <th>Networth_Next_Year</th>\n",
       "      <th>Total_assets</th>\n",
       "      <th>Net_worth</th>\n",
       "      <th>Total_income</th>\n",
       "      <th>Change_in_stock</th>\n",
       "      <th>Total_expenses</th>\n",
       "      <th>Profit_after_tax</th>\n",
       "      <th>PBDITA</th>\n",
       "      <th>PBT</th>\n",
       "      <th>...</th>\n",
       "      <th>Debtors_turnover</th>\n",
       "      <th>Finished_goods_turnover</th>\n",
       "      <th>WIP_turnover</th>\n",
       "      <th>Raw_material_turnover</th>\n",
       "      <th>Shares_outstanding</th>\n",
       "      <th>Equity_face_value</th>\n",
       "      <th>EPS</th>\n",
       "      <th>Adjusted_EPS</th>\n",
       "      <th>Total_liabilities</th>\n",
       "      <th>PE_on_BSE</th>\n",
       "    </tr>\n",
       "  </thead>\n",
       "  <tbody>\n",
       "    <tr>\n",
       "      <th>count</th>\n",
       "      <td>4256.00</td>\n",
       "      <td>4256.00</td>\n",
       "      <td>4256.00</td>\n",
       "      <td>4256.00</td>\n",
       "      <td>4025.00</td>\n",
       "      <td>3706.00</td>\n",
       "      <td>4091.00</td>\n",
       "      <td>4102.00</td>\n",
       "      <td>4102.00</td>\n",
       "      <td>4102.00</td>\n",
       "      <td>...</td>\n",
       "      <td>3871.00</td>\n",
       "      <td>3382.00</td>\n",
       "      <td>3492.00</td>\n",
       "      <td>3828.00</td>\n",
       "      <td>3446.00</td>\n",
       "      <td>3446.00</td>\n",
       "      <td>4256.00</td>\n",
       "      <td>4256.00</td>\n",
       "      <td>4256.00</td>\n",
       "      <td>1629.00</td>\n",
       "    </tr>\n",
       "    <tr>\n",
       "      <th>mean</th>\n",
       "      <td>2128.50</td>\n",
       "      <td>1344.74</td>\n",
       "      <td>3573.62</td>\n",
       "      <td>1351.95</td>\n",
       "      <td>4688.19</td>\n",
       "      <td>43.70</td>\n",
       "      <td>4356.30</td>\n",
       "      <td>295.05</td>\n",
       "      <td>605.94</td>\n",
       "      <td>410.26</td>\n",
       "      <td>...</td>\n",
       "      <td>17.93</td>\n",
       "      <td>84.37</td>\n",
       "      <td>28.68</td>\n",
       "      <td>17.73</td>\n",
       "      <td>23764909.56</td>\n",
       "      <td>-1094.83</td>\n",
       "      <td>-196.22</td>\n",
       "      <td>-197.53</td>\n",
       "      <td>3573.62</td>\n",
       "      <td>55.46</td>\n",
       "    </tr>\n",
       "    <tr>\n",
       "      <th>std</th>\n",
       "      <td>1228.75</td>\n",
       "      <td>15936.74</td>\n",
       "      <td>30074.44</td>\n",
       "      <td>12961.31</td>\n",
       "      <td>53918.95</td>\n",
       "      <td>436.92</td>\n",
       "      <td>51398.09</td>\n",
       "      <td>3079.90</td>\n",
       "      <td>5646.23</td>\n",
       "      <td>4217.42</td>\n",
       "      <td>...</td>\n",
       "      <td>90.16</td>\n",
       "      <td>562.64</td>\n",
       "      <td>169.65</td>\n",
       "      <td>343.13</td>\n",
       "      <td>170979041.33</td>\n",
       "      <td>34101.36</td>\n",
       "      <td>13061.95</td>\n",
       "      <td>13061.93</td>\n",
       "      <td>30074.44</td>\n",
       "      <td>1304.45</td>\n",
       "    </tr>\n",
       "    <tr>\n",
       "      <th>min</th>\n",
       "      <td>1.00</td>\n",
       "      <td>-74265.60</td>\n",
       "      <td>0.10</td>\n",
       "      <td>0.00</td>\n",
       "      <td>0.00</td>\n",
       "      <td>-3029.40</td>\n",
       "      <td>-0.10</td>\n",
       "      <td>-3908.30</td>\n",
       "      <td>-440.70</td>\n",
       "      <td>-3894.80</td>\n",
       "      <td>...</td>\n",
       "      <td>0.00</td>\n",
       "      <td>-0.09</td>\n",
       "      <td>-0.18</td>\n",
       "      <td>-2.00</td>\n",
       "      <td>-2147483647.00</td>\n",
       "      <td>-999998.90</td>\n",
       "      <td>-843181.82</td>\n",
       "      <td>-843181.82</td>\n",
       "      <td>0.10</td>\n",
       "      <td>-1116.64</td>\n",
       "    </tr>\n",
       "    <tr>\n",
       "      <th>25%</th>\n",
       "      <td>1064.75</td>\n",
       "      <td>3.98</td>\n",
       "      <td>91.30</td>\n",
       "      <td>31.48</td>\n",
       "      <td>107.10</td>\n",
       "      <td>-1.80</td>\n",
       "      <td>96.80</td>\n",
       "      <td>0.50</td>\n",
       "      <td>6.93</td>\n",
       "      <td>0.80</td>\n",
       "      <td>...</td>\n",
       "      <td>3.81</td>\n",
       "      <td>8.19</td>\n",
       "      <td>5.10</td>\n",
       "      <td>3.02</td>\n",
       "      <td>1308382.50</td>\n",
       "      <td>10.00</td>\n",
       "      <td>0.00</td>\n",
       "      <td>0.00</td>\n",
       "      <td>91.30</td>\n",
       "      <td>2.97</td>\n",
       "    </tr>\n",
       "    <tr>\n",
       "      <th>50%</th>\n",
       "      <td>2128.50</td>\n",
       "      <td>72.10</td>\n",
       "      <td>315.50</td>\n",
       "      <td>104.80</td>\n",
       "      <td>455.10</td>\n",
       "      <td>1.60</td>\n",
       "      <td>426.80</td>\n",
       "      <td>9.00</td>\n",
       "      <td>36.90</td>\n",
       "      <td>12.60</td>\n",
       "      <td>...</td>\n",
       "      <td>6.47</td>\n",
       "      <td>17.32</td>\n",
       "      <td>9.86</td>\n",
       "      <td>6.41</td>\n",
       "      <td>4750000.00</td>\n",
       "      <td>10.00</td>\n",
       "      <td>1.49</td>\n",
       "      <td>1.24</td>\n",
       "      <td>315.50</td>\n",
       "      <td>8.69</td>\n",
       "    </tr>\n",
       "    <tr>\n",
       "      <th>75%</th>\n",
       "      <td>3192.25</td>\n",
       "      <td>330.82</td>\n",
       "      <td>1120.80</td>\n",
       "      <td>389.85</td>\n",
       "      <td>1485.00</td>\n",
       "      <td>18.40</td>\n",
       "      <td>1395.70</td>\n",
       "      <td>53.30</td>\n",
       "      <td>158.70</td>\n",
       "      <td>74.17</td>\n",
       "      <td>...</td>\n",
       "      <td>11.85</td>\n",
       "      <td>40.01</td>\n",
       "      <td>20.24</td>\n",
       "      <td>11.82</td>\n",
       "      <td>10906020.00</td>\n",
       "      <td>10.00</td>\n",
       "      <td>10.00</td>\n",
       "      <td>7.62</td>\n",
       "      <td>1120.80</td>\n",
       "      <td>17.00</td>\n",
       "    </tr>\n",
       "    <tr>\n",
       "      <th>max</th>\n",
       "      <td>4256.00</td>\n",
       "      <td>805773.40</td>\n",
       "      <td>1176509.20</td>\n",
       "      <td>613151.60</td>\n",
       "      <td>2442828.20</td>\n",
       "      <td>14185.50</td>\n",
       "      <td>2366035.30</td>\n",
       "      <td>119439.10</td>\n",
       "      <td>208576.50</td>\n",
       "      <td>145292.60</td>\n",
       "      <td>...</td>\n",
       "      <td>3135.20</td>\n",
       "      <td>17947.60</td>\n",
       "      <td>5651.40</td>\n",
       "      <td>21092.00</td>\n",
       "      <td>4130400545.00</td>\n",
       "      <td>100000.00</td>\n",
       "      <td>34522.53</td>\n",
       "      <td>34522.53</td>\n",
       "      <td>1176509.20</td>\n",
       "      <td>51002.74</td>\n",
       "    </tr>\n",
       "  </tbody>\n",
       "</table>\n",
       "<p>8 rows × 51 columns</p>\n",
       "</div>"
      ],
      "text/plain": [
       "          Num  Networth_Next_Year  Total_assets  Net_worth  Total_income  \\\n",
       "count 4256.00             4256.00       4256.00    4256.00       4025.00   \n",
       "mean  2128.50             1344.74       3573.62    1351.95       4688.19   \n",
       "std   1228.75            15936.74      30074.44   12961.31      53918.95   \n",
       "min      1.00           -74265.60          0.10       0.00          0.00   \n",
       "25%   1064.75                3.98         91.30      31.48        107.10   \n",
       "50%   2128.50               72.10        315.50     104.80        455.10   \n",
       "75%   3192.25              330.82       1120.80     389.85       1485.00   \n",
       "max   4256.00           805773.40    1176509.20  613151.60    2442828.20   \n",
       "\n",
       "       Change_in_stock  Total_expenses  Profit_after_tax    PBDITA       PBT  \\\n",
       "count          3706.00         4091.00           4102.00   4102.00   4102.00   \n",
       "mean             43.70         4356.30            295.05    605.94    410.26   \n",
       "std             436.92        51398.09           3079.90   5646.23   4217.42   \n",
       "min           -3029.40           -0.10          -3908.30   -440.70  -3894.80   \n",
       "25%              -1.80           96.80              0.50      6.93      0.80   \n",
       "50%               1.60          426.80              9.00     36.90     12.60   \n",
       "75%              18.40         1395.70             53.30    158.70     74.17   \n",
       "max           14185.50      2366035.30         119439.10 208576.50 145292.60   \n",
       "\n",
       "       ...  Debtors_turnover  Finished_goods_turnover  WIP_turnover  \\\n",
       "count  ...           3871.00                  3382.00       3492.00   \n",
       "mean   ...             17.93                    84.37         28.68   \n",
       "std    ...             90.16                   562.64        169.65   \n",
       "min    ...              0.00                    -0.09         -0.18   \n",
       "25%    ...              3.81                     8.19          5.10   \n",
       "50%    ...              6.47                    17.32          9.86   \n",
       "75%    ...             11.85                    40.01         20.24   \n",
       "max    ...           3135.20                 17947.60       5651.40   \n",
       "\n",
       "       Raw_material_turnover  Shares_outstanding  Equity_face_value  \\\n",
       "count                3828.00             3446.00            3446.00   \n",
       "mean                   17.73         23764909.56           -1094.83   \n",
       "std                   343.13        170979041.33           34101.36   \n",
       "min                    -2.00      -2147483647.00         -999998.90   \n",
       "25%                     3.02          1308382.50              10.00   \n",
       "50%                     6.41          4750000.00              10.00   \n",
       "75%                    11.82         10906020.00              10.00   \n",
       "max                 21092.00       4130400545.00          100000.00   \n",
       "\n",
       "             EPS  Adjusted_EPS  Total_liabilities  PE_on_BSE  \n",
       "count    4256.00       4256.00            4256.00    1629.00  \n",
       "mean     -196.22       -197.53            3573.62      55.46  \n",
       "std     13061.95      13061.93           30074.44    1304.45  \n",
       "min   -843181.82    -843181.82               0.10   -1116.64  \n",
       "25%         0.00          0.00              91.30       2.97  \n",
       "50%         1.49          1.24             315.50       8.69  \n",
       "75%        10.00          7.62            1120.80      17.00  \n",
       "max     34522.53      34522.53         1176509.20   51002.74  \n",
       "\n",
       "[8 rows x 51 columns]"
      ]
     },
     "execution_count": 62,
     "metadata": {},
     "output_type": "execute_result"
    }
   ],
   "source": [
    "pd.options.display.float_format = '{:.2f}'.format   \n",
    "\n",
    "df.describe()"
   ]
  },
  {
   "cell_type": "markdown",
   "id": "8c1db3f2",
   "metadata": {},
   "source": [
    "# 1.Missing Value Treatment"
   ]
  },
  {
   "cell_type": "markdown",
   "id": "1c4f289c",
   "metadata": {},
   "source": [
    "# checking missing values"
   ]
  },
  {
   "cell_type": "code",
   "execution_count": 63,
   "id": "fb5d0797",
   "metadata": {},
   "outputs": [
    {
     "data": {
      "text/plain": [
       "Num                                                  0\n",
       "Networth_Next_Year                                   0\n",
       "Total_assets                                         0\n",
       "Net_worth                                            0\n",
       "Total_income                                       231\n",
       "Change_in_stock                                    550\n",
       "Total_expenses                                     165\n",
       "Profit_after_tax                                   154\n",
       "PBDITA                                             154\n",
       "PBT                                                154\n",
       "Cash_profit                                        154\n",
       "PBDITA_as_perc__of_total_income                     79\n",
       "PBT_as_perc__of_total_income                        79\n",
       "PAT_as_perc__of_total_income                        79\n",
       "Cash_profit_as_perc__of_total_income                79\n",
       "PAT_as_perc__of_net_worth                            0\n",
       "Sales                                              305\n",
       "Income_from_fincial_services                      1111\n",
       "Other_income                                      1556\n",
       "Total_capital                                        5\n",
       "Reserves_and_funds                                  98\n",
       "Borrowings                                         431\n",
       "Current_liabilities_&_provisions                   110\n",
       "Deferred_tax_liability                            1369\n",
       "Shareholders_funds                                   0\n",
       "Cumulative_retained_profits                         45\n",
       "Capital_employed                                     0\n",
       "TOL_to_TNW                                           0\n",
       "Total_term_liabilities__to__tangible_net_worth       0\n",
       "Contingent_liabilities__to__Net_worth_perc_          0\n",
       "Contingent_liabilities                            1402\n",
       "Net_fixed_assets                                   132\n",
       "Investments                                       1715\n",
       "Current_assets                                      80\n",
       "Net_working_capital                                 37\n",
       "Quick_ratio_times                                  105\n",
       "Current_ratio_times                                105\n",
       "Debt_to_equity_ratio_times                           0\n",
       "Cash_to_current_liabilities_times                  105\n",
       "Cash_to_average_cost_of_sales_per_day              100\n",
       "Creditors_turnover                                 391\n",
       "Debtors_turnover                                   385\n",
       "Finished_goods_turnover                            874\n",
       "WIP_turnover                                       764\n",
       "Raw_material_turnover                              428\n",
       "Shares_outstanding                                 810\n",
       "Equity_face_value                                  810\n",
       "EPS                                                  0\n",
       "Adjusted_EPS                                         0\n",
       "Total_liabilities                                    0\n",
       "PE_on_BSE                                         2627\n",
       "dtype: int64"
      ]
     },
     "execution_count": 63,
     "metadata": {},
     "output_type": "execute_result"
    }
   ],
   "source": [
    "df.isnull().sum()"
   ]
  },
  {
   "cell_type": "code",
   "execution_count": 64,
   "id": "f29caf3c",
   "metadata": {},
   "outputs": [],
   "source": [
    "df_missing = df.isnull().sum()"
   ]
  },
  {
   "cell_type": "code",
   "execution_count": 65,
   "id": "ad675a61",
   "metadata": {},
   "outputs": [
    {
     "data": {
      "text/plain": [
       "4256"
      ]
     },
     "execution_count": 65,
     "metadata": {},
     "output_type": "execute_result"
    }
   ],
   "source": [
    "len(df)"
   ]
  },
  {
   "cell_type": "code",
   "execution_count": 66,
   "id": "b2bbdcdb",
   "metadata": {},
   "outputs": [
    {
     "data": {
      "text/plain": [
       "Num                                              0.00\n",
       "Networth_Next_Year                               0.00\n",
       "Total_assets                                     0.00\n",
       "Net_worth                                        0.00\n",
       "Total_income                                     0.05\n",
       "Change_in_stock                                  0.13\n",
       "Total_expenses                                   0.04\n",
       "Profit_after_tax                                 0.04\n",
       "PBDITA                                           0.04\n",
       "PBT                                              0.04\n",
       "Cash_profit                                      0.04\n",
       "PBDITA_as_perc__of_total_income                  0.02\n",
       "PBT_as_perc__of_total_income                     0.02\n",
       "PAT_as_perc__of_total_income                     0.02\n",
       "Cash_profit_as_perc__of_total_income             0.02\n",
       "PAT_as_perc__of_net_worth                        0.00\n",
       "Sales                                            0.07\n",
       "Income_from_fincial_services                     0.26\n",
       "Other_income                                     0.37\n",
       "Total_capital                                    0.00\n",
       "Reserves_and_funds                               0.02\n",
       "Borrowings                                       0.10\n",
       "Current_liabilities_&_provisions                 0.03\n",
       "Deferred_tax_liability                           0.32\n",
       "Shareholders_funds                               0.00\n",
       "Cumulative_retained_profits                      0.01\n",
       "Capital_employed                                 0.00\n",
       "TOL_to_TNW                                       0.00\n",
       "Total_term_liabilities__to__tangible_net_worth   0.00\n",
       "Contingent_liabilities__to__Net_worth_perc_      0.00\n",
       "Contingent_liabilities                           0.33\n",
       "Net_fixed_assets                                 0.03\n",
       "Investments                                      0.40\n",
       "Current_assets                                   0.02\n",
       "Net_working_capital                              0.01\n",
       "Quick_ratio_times                                0.02\n",
       "Current_ratio_times                              0.02\n",
       "Debt_to_equity_ratio_times                       0.00\n",
       "Cash_to_current_liabilities_times                0.02\n",
       "Cash_to_average_cost_of_sales_per_day            0.02\n",
       "Creditors_turnover                               0.09\n",
       "Debtors_turnover                                 0.09\n",
       "Finished_goods_turnover                          0.21\n",
       "WIP_turnover                                     0.18\n",
       "Raw_material_turnover                            0.10\n",
       "Shares_outstanding                               0.19\n",
       "Equity_face_value                                0.19\n",
       "EPS                                              0.00\n",
       "Adjusted_EPS                                     0.00\n",
       "Total_liabilities                                0.00\n",
       "PE_on_BSE                                        0.62\n",
       "dtype: float64"
      ]
     },
     "execution_count": 66,
     "metadata": {},
     "output_type": "execute_result"
    }
   ],
   "source": [
    "df_missing/len(df)"
   ]
  },
  {
   "cell_type": "markdown",
   "id": "88ab87c4",
   "metadata": {},
   "source": [
    "### Imputation of all missing values with the bext possible option¶"
   ]
  },
  {
   "cell_type": "code",
   "execution_count": 67,
   "id": "35ed37a2",
   "metadata": {},
   "outputs": [],
   "source": [
    "impute = ['Total_income','Change_in_stock','Total_expenses','Profit_after_tax','PBDITA','PBT',\n",
    "          'Cash_profit','PBDITA_as_perc__of_total_income','PBT_as_perc__of_total_income','PAT_as_perc__of_total_income',\n",
    "          'Cash_profit_as_perc__of_total_income','Sales','Income_from_fincial_services','Other_income','Total_capital',\n",
    "          'Reserves_and_funds','Borrowings','Current_liabilities_&_provisions','Deferred_tax_liability','Cumulative_retained_profits',\n",
    "          'Contingent_liabilities','Net_fixed_assets','Investments','Current_assets','Net_working_capital','Quick_ratio_times','Current_ratio_times',\n",
    "          'Cash_to_current_liabilities_times','Cash_to_average_cost_of_sales_per_day','Creditors_turnover','Debtors_turnover','Finished_goods_turnover',\n",
    "          'WIP_turnover','Raw_material_turnover','Shares_outstanding','Equity_face_value','PE_on_BSE']\n",
    "for i in impute:\n",
    "    df[i].fillna(df[i].median(),inplace=True)"
   ]
  },
  {
   "cell_type": "code",
   "execution_count": 68,
   "id": "141d657b",
   "metadata": {},
   "outputs": [
    {
     "data": {
      "text/plain": [
       "Num                                               0\n",
       "Networth_Next_Year                                0\n",
       "Total_assets                                      0\n",
       "Net_worth                                         0\n",
       "Total_income                                      0\n",
       "Change_in_stock                                   0\n",
       "Total_expenses                                    0\n",
       "Profit_after_tax                                  0\n",
       "PBDITA                                            0\n",
       "PBT                                               0\n",
       "Cash_profit                                       0\n",
       "PBDITA_as_perc__of_total_income                   0\n",
       "PBT_as_perc__of_total_income                      0\n",
       "PAT_as_perc__of_total_income                      0\n",
       "Cash_profit_as_perc__of_total_income              0\n",
       "PAT_as_perc__of_net_worth                         0\n",
       "Sales                                             0\n",
       "Income_from_fincial_services                      0\n",
       "Other_income                                      0\n",
       "Total_capital                                     0\n",
       "Reserves_and_funds                                0\n",
       "Borrowings                                        0\n",
       "Current_liabilities_&_provisions                  0\n",
       "Deferred_tax_liability                            0\n",
       "Shareholders_funds                                0\n",
       "Cumulative_retained_profits                       0\n",
       "Capital_employed                                  0\n",
       "TOL_to_TNW                                        0\n",
       "Total_term_liabilities__to__tangible_net_worth    0\n",
       "Contingent_liabilities__to__Net_worth_perc_       0\n",
       "Contingent_liabilities                            0\n",
       "Net_fixed_assets                                  0\n",
       "Investments                                       0\n",
       "Current_assets                                    0\n",
       "Net_working_capital                               0\n",
       "Quick_ratio_times                                 0\n",
       "Current_ratio_times                               0\n",
       "Debt_to_equity_ratio_times                        0\n",
       "Cash_to_current_liabilities_times                 0\n",
       "Cash_to_average_cost_of_sales_per_day             0\n",
       "Creditors_turnover                                0\n",
       "Debtors_turnover                                  0\n",
       "Finished_goods_turnover                           0\n",
       "WIP_turnover                                      0\n",
       "Raw_material_turnover                             0\n",
       "Shares_outstanding                                0\n",
       "Equity_face_value                                 0\n",
       "EPS                                               0\n",
       "Adjusted_EPS                                      0\n",
       "Total_liabilities                                 0\n",
       "PE_on_BSE                                         0\n",
       "dtype: int64"
      ]
     },
     "execution_count": 68,
     "metadata": {},
     "output_type": "execute_result"
    }
   ],
   "source": [
    "df.isnull().sum()"
   ]
  },
  {
   "cell_type": "markdown",
   "id": "77bb6302",
   "metadata": {},
   "source": [
    "## checking duplicates in the data"
   ]
  },
  {
   "cell_type": "code",
   "execution_count": 69,
   "id": "d37663be",
   "metadata": {},
   "outputs": [
    {
     "name": "stdout",
     "output_type": "stream",
     "text": [
      "Number of duplicates present in the dataset are 0\n"
     ]
    }
   ],
   "source": [
    "df.duplicated().sum()\n",
    "print('Number of duplicates present in the dataset are',df.duplicated().sum())"
   ]
  },
  {
   "cell_type": "code",
   "execution_count": 70,
   "id": "579c4886",
   "metadata": {},
   "outputs": [
    {
     "data": {
      "text/plain": [
       "float64    50\n",
       "int64       1\n",
       "dtype: int64"
      ]
     },
     "execution_count": 70,
     "metadata": {},
     "output_type": "execute_result"
    }
   ],
   "source": [
    "df.dtypes.value_counts()"
   ]
  },
  {
   "cell_type": "code",
   "execution_count": 71,
   "id": "2978fdf4",
   "metadata": {},
   "outputs": [
    {
     "name": "stdout",
     "output_type": "stream",
     "text": [
      "<class 'pandas.core.frame.DataFrame'>\n",
      "RangeIndex: 4256 entries, 0 to 4255\n",
      "Data columns (total 51 columns):\n",
      " #   Column                                          Non-Null Count  Dtype  \n",
      "---  ------                                          --------------  -----  \n",
      " 0   Num                                             4256 non-null   int64  \n",
      " 1   Networth_Next_Year                              4256 non-null   float64\n",
      " 2   Total_assets                                    4256 non-null   float64\n",
      " 3   Net_worth                                       4256 non-null   float64\n",
      " 4   Total_income                                    4256 non-null   float64\n",
      " 5   Change_in_stock                                 4256 non-null   float64\n",
      " 6   Total_expenses                                  4256 non-null   float64\n",
      " 7   Profit_after_tax                                4256 non-null   float64\n",
      " 8   PBDITA                                          4256 non-null   float64\n",
      " 9   PBT                                             4256 non-null   float64\n",
      " 10  Cash_profit                                     4256 non-null   float64\n",
      " 11  PBDITA_as_perc__of_total_income                 4256 non-null   float64\n",
      " 12  PBT_as_perc__of_total_income                    4256 non-null   float64\n",
      " 13  PAT_as_perc__of_total_income                    4256 non-null   float64\n",
      " 14  Cash_profit_as_perc__of_total_income            4256 non-null   float64\n",
      " 15  PAT_as_perc__of_net_worth                       4256 non-null   float64\n",
      " 16  Sales                                           4256 non-null   float64\n",
      " 17  Income_from_fincial_services                    4256 non-null   float64\n",
      " 18  Other_income                                    4256 non-null   float64\n",
      " 19  Total_capital                                   4256 non-null   float64\n",
      " 20  Reserves_and_funds                              4256 non-null   float64\n",
      " 21  Borrowings                                      4256 non-null   float64\n",
      " 22  Current_liabilities_&_provisions                4256 non-null   float64\n",
      " 23  Deferred_tax_liability                          4256 non-null   float64\n",
      " 24  Shareholders_funds                              4256 non-null   float64\n",
      " 25  Cumulative_retained_profits                     4256 non-null   float64\n",
      " 26  Capital_employed                                4256 non-null   float64\n",
      " 27  TOL_to_TNW                                      4256 non-null   float64\n",
      " 28  Total_term_liabilities__to__tangible_net_worth  4256 non-null   float64\n",
      " 29  Contingent_liabilities__to__Net_worth_perc_     4256 non-null   float64\n",
      " 30  Contingent_liabilities                          4256 non-null   float64\n",
      " 31  Net_fixed_assets                                4256 non-null   float64\n",
      " 32  Investments                                     4256 non-null   float64\n",
      " 33  Current_assets                                  4256 non-null   float64\n",
      " 34  Net_working_capital                             4256 non-null   float64\n",
      " 35  Quick_ratio_times                               4256 non-null   float64\n",
      " 36  Current_ratio_times                             4256 non-null   float64\n",
      " 37  Debt_to_equity_ratio_times                      4256 non-null   float64\n",
      " 38  Cash_to_current_liabilities_times               4256 non-null   float64\n",
      " 39  Cash_to_average_cost_of_sales_per_day           4256 non-null   float64\n",
      " 40  Creditors_turnover                              4256 non-null   float64\n",
      " 41  Debtors_turnover                                4256 non-null   float64\n",
      " 42  Finished_goods_turnover                         4256 non-null   float64\n",
      " 43  WIP_turnover                                    4256 non-null   float64\n",
      " 44  Raw_material_turnover                           4256 non-null   float64\n",
      " 45  Shares_outstanding                              4256 non-null   float64\n",
      " 46  Equity_face_value                               4256 non-null   float64\n",
      " 47  EPS                                             4256 non-null   float64\n",
      " 48  Adjusted_EPS                                    4256 non-null   float64\n",
      " 49  Total_liabilities                               4256 non-null   float64\n",
      " 50  PE_on_BSE                                       4256 non-null   float64\n",
      "dtypes: float64(50), int64(1)\n",
      "memory usage: 1.7 MB\n"
     ]
    }
   ],
   "source": [
    "df.info()"
   ]
  },
  {
   "cell_type": "markdown",
   "id": "e626d32a",
   "metadata": {},
   "source": [
    "## Removal of unwanted variables"
   ]
  },
  {
   "cell_type": "code",
   "execution_count": 72,
   "id": "d888f38e",
   "metadata": {},
   "outputs": [],
   "source": [
    "df1 = df.drop(['Equity_face_value','PE_on_BSE'], axis = 1)"
   ]
  },
  {
   "cell_type": "markdown",
   "id": "da0bcb26",
   "metadata": {},
   "source": [
    "# 2.Outlier Treatment"
   ]
  },
  {
   "cell_type": "code",
   "execution_count": 73,
   "id": "5ac48c02",
   "metadata": {},
   "outputs": [
    {
     "data": {
      "text/plain": [
       "['Num',\n",
       " 'Networth_Next_Year',\n",
       " 'Total_assets',\n",
       " 'Net_worth',\n",
       " 'Total_income',\n",
       " 'Change_in_stock',\n",
       " 'Total_expenses',\n",
       " 'Profit_after_tax',\n",
       " 'PBDITA',\n",
       " 'PBT',\n",
       " 'Cash_profit',\n",
       " 'PBDITA_as_perc__of_total_income',\n",
       " 'PBT_as_perc__of_total_income',\n",
       " 'PAT_as_perc__of_total_income',\n",
       " 'Cash_profit_as_perc__of_total_income',\n",
       " 'PAT_as_perc__of_net_worth',\n",
       " 'Sales',\n",
       " 'Income_from_fincial_services',\n",
       " 'Other_income',\n",
       " 'Total_capital',\n",
       " 'Reserves_and_funds',\n",
       " 'Borrowings',\n",
       " 'Current_liabilities_&_provisions',\n",
       " 'Deferred_tax_liability',\n",
       " 'Shareholders_funds',\n",
       " 'Cumulative_retained_profits',\n",
       " 'Capital_employed',\n",
       " 'TOL_to_TNW',\n",
       " 'Total_term_liabilities__to__tangible_net_worth',\n",
       " 'Contingent_liabilities__to__Net_worth_perc_',\n",
       " 'Contingent_liabilities',\n",
       " 'Net_fixed_assets',\n",
       " 'Investments',\n",
       " 'Current_assets',\n",
       " 'Net_working_capital',\n",
       " 'Quick_ratio_times',\n",
       " 'Current_ratio_times',\n",
       " 'Debt_to_equity_ratio_times',\n",
       " 'Cash_to_current_liabilities_times',\n",
       " 'Cash_to_average_cost_of_sales_per_day',\n",
       " 'Creditors_turnover',\n",
       " 'Debtors_turnover',\n",
       " 'Finished_goods_turnover',\n",
       " 'WIP_turnover',\n",
       " 'Raw_material_turnover',\n",
       " 'Shares_outstanding',\n",
       " 'EPS',\n",
       " 'Adjusted_EPS',\n",
       " 'Total_liabilities']"
      ]
     },
     "execution_count": 73,
     "metadata": {},
     "output_type": "execute_result"
    }
   ],
   "source": [
    "# creating a list of column names that are numeric\n",
    "numcols = [cols for cols in df1.columns if df1[cols].dtype != 'object']\n",
    "numcols "
   ]
  },
  {
   "cell_type": "code",
   "execution_count": 74,
   "id": "e5010486",
   "metadata": {},
   "outputs": [],
   "source": [
    "Q1 = df1.quantile(0.25)\n",
    "Q3 = df1.quantile(0.75)\n",
    "IQR = Q3 - Q1\n",
    "UL = Q3 + 1.5*IQR\n",
    "LL = Q1 - 1.5*IQR"
   ]
  },
  {
   "cell_type": "code",
   "execution_count": 75,
   "id": "e7652687",
   "metadata": {
    "scrolled": false
   },
   "outputs": [
    {
     "data": {
      "text/plain": [
       "Num                                                 0\n",
       "Networth_Next_Year                                624\n",
       "Total_assets                                      585\n",
       "Net_worth                                         595\n",
       "Total_income                                      541\n",
       "Change_in_stock                                   946\n",
       "Total_expenses                                    542\n",
       "Profit_after_tax                                  725\n",
       "PBDITA                                            612\n",
       "PBT                                               724\n",
       "Cash_profit                                       652\n",
       "PBDITA_as_perc__of_total_income                   366\n",
       "PBT_as_perc__of_total_income                      559\n",
       "PAT_as_perc__of_total_income                      623\n",
       "Cash_profit_as_perc__of_total_income              438\n",
       "PAT_as_perc__of_net_worth                         427\n",
       "Sales                                             545\n",
       "Income_from_fincial_services                      710\n",
       "Other_income                                      716\n",
       "Total_capital                                     555\n",
       "Reserves_and_funds                                658\n",
       "Borrowings                                        617\n",
       "Current_liabilities_&_provisions                  599\n",
       "Deferred_tax_liability                            668\n",
       "Shareholders_funds                                588\n",
       "Cumulative_retained_profits                       707\n",
       "Capital_employed                                  572\n",
       "TOL_to_TNW                                        414\n",
       "Total_term_liabilities__to__tangible_net_worth    406\n",
       "Contingent_liabilities__to__Net_worth_perc_       478\n",
       "Contingent_liabilities                            710\n",
       "Net_fixed_assets                                  594\n",
       "Investments                                       829\n",
       "Current_assets                                    545\n",
       "Net_working_capital                               813\n",
       "Quick_ratio_times                                 380\n",
       "Current_ratio_times                               408\n",
       "Debt_to_equity_ratio_times                        381\n",
       "Cash_to_current_liabilities_times                 557\n",
       "Cash_to_average_cost_of_sales_per_day             598\n",
       "Creditors_turnover                                505\n",
       "Debtors_turnover                                  455\n",
       "Finished_goods_turnover                           580\n",
       "WIP_turnover                                      496\n",
       "Raw_material_turnover                             383\n",
       "Shares_outstanding                                625\n",
       "EPS                                               638\n",
       "Adjusted_EPS                                      694\n",
       "Total_liabilities                                 585\n",
       "dtype: int64"
      ]
     },
     "execution_count": 75,
     "metadata": {},
     "output_type": "execute_result"
    }
   ],
   "source": [
    "((df1 > UL) | (df1 < LL)).sum()"
   ]
  },
  {
   "cell_type": "code",
   "execution_count": 76,
   "id": "71e0224a",
   "metadata": {},
   "outputs": [],
   "source": [
    "# user defined function to get upper and lower bounds of numeric columns for outlier capping and flooring\n",
    "def get_bounds(df,col):\n",
    "    q1 = df1[col].quantile(0.25)\n",
    "    q3 = df1[col].quantile(0.75)\n",
    "    iqr = q3-q1\n",
    "    upper_bound = q3 + 1.5*iqr\n",
    "    lower_bound = q1 - 1.5*iqr\n",
    "    return upper_bound, lower_bound"
   ]
  },
  {
   "cell_type": "code",
   "execution_count": 77,
   "id": "e30da9af",
   "metadata": {},
   "outputs": [],
   "source": [
    "for cols in numcols:\n",
    "        upper_bound, lower_bound = get_bounds(df,cols)\n",
    "        df1[cols] = np.where(df[cols]>upper_bound, upper_bound, df1[cols])\n",
    "        df1[cols] = np.where(df[cols]<lower_bound, lower_bound, df1[cols])"
   ]
  },
  {
   "cell_type": "code",
   "execution_count": 80,
   "id": "4b0ae242",
   "metadata": {},
   "outputs": [
    {
     "data": {
      "image/png": "[encoded data removed]",
      "text/plain": [
       "<Figure size 1200x2000 with 72 Axes>"
      ]
     },
     "metadata": {},
     "output_type": "display_data"
    }
   ],
   "source": [
    "# Check if outliers have been capped using boxplot\n",
    "df1[numcols].plot(kind='box', subplots=True, layout=(12,6), figsize=(12,20))\n",
    "plt.show();"
   ]
  },
  {
   "cell_type": "markdown",
   "id": "270355ae",
   "metadata": {},
   "source": [
    "### Creating a binary target variable using 'Networth_Next_Year'"
   ]
  },
  {
   "cell_type": "code",
   "execution_count": 83,
   "id": "f0f1b741",
   "metadata": {},
   "outputs": [],
   "source": [
    "df1['default'] = np.where((df1['Networth_Next_Year'] > 0), 0, 1)"
   ]
  },
  {
   "cell_type": "code",
   "execution_count": 84,
   "id": "ee736337",
   "metadata": {},
   "outputs": [
    {
     "data": {
      "text/plain": [
       "0    3352\n",
       "1     904\n",
       "Name: default, dtype: int64"
      ]
     },
     "execution_count": 84,
     "metadata": {},
     "output_type": "execute_result"
    }
   ],
   "source": [
    "df1['default'].value_counts()"
   ]
  },
  {
   "cell_type": "markdown",
   "id": "679fdbc0",
   "metadata": {},
   "source": [
    "### Checking top 10 rows"
   ]
  },
  {
   "cell_type": "code",
   "execution_count": 85,
   "id": "ca9a9b46",
   "metadata": {},
   "outputs": [
    {
     "data": {
      "text/html": [
       "<div>\n",
       "<style scoped>\n",
       "    .dataframe tbody tr th:only-of-type {\n",
       "        vertical-align: middle;\n",
       "    }\n",
       "\n",
       "    .dataframe tbody tr th {\n",
       "        vertical-align: top;\n",
       "    }\n",
       "\n",
       "    .dataframe thead th {\n",
       "        text-align: right;\n",
       "    }\n",
       "</style>\n",
       "<table border=\"1\" class=\"dataframe\">\n",
       "  <thead>\n",
       "    <tr style=\"text-align: right;\">\n",
       "      <th></th>\n",
       "      <th>default</th>\n",
       "      <th>Networth_Next_Year</th>\n",
       "    </tr>\n",
       "  </thead>\n",
       "  <tbody>\n",
       "    <tr>\n",
       "      <th>0</th>\n",
       "      <td>0</td>\n",
       "      <td>395.30</td>\n",
       "    </tr>\n",
       "    <tr>\n",
       "      <th>1</th>\n",
       "      <td>0</td>\n",
       "      <td>36.20</td>\n",
       "    </tr>\n",
       "    <tr>\n",
       "      <th>2</th>\n",
       "      <td>0</td>\n",
       "      <td>84.00</td>\n",
       "    </tr>\n",
       "    <tr>\n",
       "      <th>3</th>\n",
       "      <td>0</td>\n",
       "      <td>821.10</td>\n",
       "    </tr>\n",
       "    <tr>\n",
       "      <th>4</th>\n",
       "      <td>0</td>\n",
       "      <td>41.80</td>\n",
       "    </tr>\n",
       "    <tr>\n",
       "      <th>5</th>\n",
       "      <td>0</td>\n",
       "      <td>291.50</td>\n",
       "    </tr>\n",
       "    <tr>\n",
       "      <th>6</th>\n",
       "      <td>0</td>\n",
       "      <td>93.30</td>\n",
       "    </tr>\n",
       "    <tr>\n",
       "      <th>7</th>\n",
       "      <td>0</td>\n",
       "      <td>821.10</td>\n",
       "    </tr>\n",
       "    <tr>\n",
       "      <th>8</th>\n",
       "      <td>0</td>\n",
       "      <td>188.60</td>\n",
       "    </tr>\n",
       "    <tr>\n",
       "      <th>9</th>\n",
       "      <td>0</td>\n",
       "      <td>229.60</td>\n",
       "    </tr>\n",
       "  </tbody>\n",
       "</table>\n",
       "</div>"
      ],
      "text/plain": [
       "   default  Networth_Next_Year\n",
       "0        0              395.30\n",
       "1        0               36.20\n",
       "2        0               84.00\n",
       "3        0              821.10\n",
       "4        0               41.80\n",
       "5        0              291.50\n",
       "6        0               93.30\n",
       "7        0              821.10\n",
       "8        0              188.60\n",
       "9        0              229.60"
      ]
     },
     "execution_count": 85,
     "metadata": {},
     "output_type": "execute_result"
    }
   ],
   "source": [
    "df1[['default','Networth_Next_Year']].head(10)"
   ]
  },
  {
   "cell_type": "markdown",
   "id": "a0bc402e",
   "metadata": {},
   "source": [
    "### Checking proportion of default"
   ]
  },
  {
   "cell_type": "code",
   "execution_count": 86,
   "id": "8ff00fe4",
   "metadata": {},
   "outputs": [
    {
     "data": {
      "text/plain": [
       "0   0.79\n",
       "1   0.21\n",
       "Name: default, dtype: float64"
      ]
     },
     "execution_count": 86,
     "metadata": {},
     "output_type": "execute_result"
    }
   ],
   "source": [
    "df1['default'].value_counts(normalize = True)"
   ]
  },
  {
   "cell_type": "markdown",
   "id": "edb33586",
   "metadata": {},
   "source": [
    "# 3. Checking Correlation amongst the variables using heatmap"
   ]
  },
  {
   "cell_type": "markdown",
   "id": "72e57b55",
   "metadata": {},
   "source": [
    "### Inspect possible correlations between independent variables"
   ]
  },
  {
   "cell_type": "code",
   "execution_count": 88,
   "id": "98dbda68",
   "metadata": {},
   "outputs": [
    {
     "data": {
      "text/plain": [
       "<Figure size 1200x800 with 0 Axes>"
      ]
     },
     "metadata": {},
     "output_type": "display_data"
    },
    {
     "data": {
      "image/png": "[encoded data removed]",
      "text/plain": [
       "<Figure size 1200x800 with 2 Axes>"
      ]
     },
     "metadata": {},
     "output_type": "display_data"
    }
   ],
   "source": [
    "plt.figure(figsize = (12,8))\n",
    "cor_matrix = df1.drop('default', axis = 1).corr()\n",
    "sns.heatmap(cor_matrix, cmap = 'plasma', vmin = -1, vmax= 1)\n",
    "plt.show()"
   ]
  },
  {
   "cell_type": "markdown",
   "id": "af708403",
   "metadata": {},
   "source": [
    "# 4 Train Test Split"
   ]
  },
  {
   "cell_type": "code",
   "execution_count": 93,
   "id": "b4db0ac7",
   "metadata": {},
   "outputs": [],
   "source": [
    "from sklearn.model_selection import train_test_split"
   ]
  },
  {
   "cell_type": "code",
   "execution_count": 94,
   "id": "d05b7935",
   "metadata": {},
   "outputs": [],
   "source": [
    "predictors = df1.drop('default', axis = 1)\n",
    "response = df1[['default']]"
   ]
  },
  {
   "cell_type": "code",
   "execution_count": 95,
   "id": "62b03d9a",
   "metadata": {},
   "outputs": [],
   "source": [
    "from sklearn.preprocessing import StandardScaler #Scale train and test separately\n",
    "scaler = StandardScaler()\n",
    "scaled_predictors = pd.DataFrame(scaler.fit_transform(predictors), columns = predictors.columns)"
   ]
  },
  {
   "cell_type": "code",
   "execution_count": 96,
   "id": "0ff6a720",
   "metadata": {},
   "outputs": [],
   "source": [
    "df_new1 = pd.concat([scaled_predictors, response], axis = 1)"
   ]
  },
  {
   "cell_type": "code",
   "execution_count": 97,
   "id": "867e7a0f",
   "metadata": {},
   "outputs": [],
   "source": [
    "X_train,X_test,Y_train,Y_test = train_test_split(predictors,response,test_size = 0.33,random_state =42, stratify = df_new1.default)"
   ]
  },
  {
   "cell_type": "code",
   "execution_count": 98,
   "id": "05667bbc",
   "metadata": {},
   "outputs": [
    {
     "name": "stdout",
     "output_type": "stream",
     "text": [
      "Number of rows and columns of the training set for the independent variables: (2851, 49)\n",
      "Number of rows and columns of the training set for the dependent variable: (2851, 1)\n",
      "Number of rows and columns of the test set for the independent variables: (1405, 49)\n",
      "Number of rows and columns of the test set for the dependent variable: (1405, 1)\n"
     ]
    }
   ],
   "source": [
    "print('Number of rows and columns of the training set for the independent variables:',X_train.shape)\n",
    "print('Number of rows and columns of the training set for the dependent variable:',Y_train.shape)\n",
    "print('Number of rows and columns of the test set for the independent variables:',X_test.shape)\n",
    "print('Number of rows and columns of the test set for the dependent variable:',Y_test.shape)"
   ]
  },
  {
   "cell_type": "code",
   "execution_count": 99,
   "id": "a7b48b4c",
   "metadata": {},
   "outputs": [
    {
     "data": {
      "text/html": [
       "<div>\n",
       "<style scoped>\n",
       "    .dataframe tbody tr th:only-of-type {\n",
       "        vertical-align: middle;\n",
       "    }\n",
       "\n",
       "    .dataframe tbody tr th {\n",
       "        vertical-align: top;\n",
       "    }\n",
       "\n",
       "    .dataframe thead th {\n",
       "        text-align: right;\n",
       "    }\n",
       "</style>\n",
       "<table border=\"1\" class=\"dataframe\">\n",
       "  <thead>\n",
       "    <tr style=\"text-align: right;\">\n",
       "      <th></th>\n",
       "      <th>Num</th>\n",
       "      <th>Networth_Next_Year</th>\n",
       "      <th>Total_assets</th>\n",
       "      <th>Net_worth</th>\n",
       "      <th>Total_income</th>\n",
       "      <th>Change_in_stock</th>\n",
       "      <th>Total_expenses</th>\n",
       "      <th>Profit_after_tax</th>\n",
       "      <th>PBDITA</th>\n",
       "      <th>PBT</th>\n",
       "      <th>...</th>\n",
       "      <th>Cash_to_average_cost_of_sales_per_day</th>\n",
       "      <th>Creditors_turnover</th>\n",
       "      <th>Debtors_turnover</th>\n",
       "      <th>Finished_goods_turnover</th>\n",
       "      <th>WIP_turnover</th>\n",
       "      <th>Raw_material_turnover</th>\n",
       "      <th>Shares_outstanding</th>\n",
       "      <th>EPS</th>\n",
       "      <th>Adjusted_EPS</th>\n",
       "      <th>Total_liabilities</th>\n",
       "    </tr>\n",
       "  </thead>\n",
       "  <tbody>\n",
       "    <tr>\n",
       "      <th>2893</th>\n",
       "      <td>2894.00</td>\n",
       "      <td>574.50</td>\n",
       "      <td>699.00</td>\n",
       "      <td>537.80</td>\n",
       "      <td>686.00</td>\n",
       "      <td>27.50</td>\n",
       "      <td>692.10</td>\n",
       "      <td>21.40</td>\n",
       "      <td>49.80</td>\n",
       "      <td>22.50</td>\n",
       "      <td>...</td>\n",
       "      <td>15.64</td>\n",
       "      <td>18.88</td>\n",
       "      <td>21.41</td>\n",
       "      <td>15.72</td>\n",
       "      <td>8.46</td>\n",
       "      <td>22.02</td>\n",
       "      <td>4847750.00</td>\n",
       "      <td>3.61</td>\n",
       "      <td>1.80</td>\n",
       "      <td>699.00</td>\n",
       "    </tr>\n",
       "    <tr>\n",
       "      <th>4243</th>\n",
       "      <td>4244.00</td>\n",
       "      <td>0.00</td>\n",
       "      <td>1098.70</td>\n",
       "      <td>39.70</td>\n",
       "      <td>914.40</td>\n",
       "      <td>2.40</td>\n",
       "      <td>914.50</td>\n",
       "      <td>2.30</td>\n",
       "      <td>66.70</td>\n",
       "      <td>2.50</td>\n",
       "      <td>...</td>\n",
       "      <td>13.72</td>\n",
       "      <td>4.52</td>\n",
       "      <td>4.65</td>\n",
       "      <td>62.16</td>\n",
       "      <td>33.68</td>\n",
       "      <td>14.02</td>\n",
       "      <td>340000.00</td>\n",
       "      <td>6.76</td>\n",
       "      <td>6.76</td>\n",
       "      <td>1098.70</td>\n",
       "    </tr>\n",
       "    <tr>\n",
       "      <th>3345</th>\n",
       "      <td>3346.00</td>\n",
       "      <td>30.60</td>\n",
       "      <td>30.50</td>\n",
       "      <td>30.50</td>\n",
       "      <td>0.30</td>\n",
       "      <td>1.60</td>\n",
       "      <td>8.20</td>\n",
       "      <td>-7.90</td>\n",
       "      <td>0.00</td>\n",
       "      <td>-7.90</td>\n",
       "      <td>...</td>\n",
       "      <td>48.70</td>\n",
       "      <td>6.17</td>\n",
       "      <td>6.47</td>\n",
       "      <td>17.32</td>\n",
       "      <td>9.86</td>\n",
       "      <td>6.41</td>\n",
       "      <td>4750000.00</td>\n",
       "      <td>0.00</td>\n",
       "      <td>0.00</td>\n",
       "      <td>30.50</td>\n",
       "    </tr>\n",
       "    <tr>\n",
       "      <th>332</th>\n",
       "      <td>333.00</td>\n",
       "      <td>7.90</td>\n",
       "      <td>17.10</td>\n",
       "      <td>8.50</td>\n",
       "      <td>34.20</td>\n",
       "      <td>-0.30</td>\n",
       "      <td>33.40</td>\n",
       "      <td>0.50</td>\n",
       "      <td>2.00</td>\n",
       "      <td>0.80</td>\n",
       "      <td>...</td>\n",
       "      <td>0.00</td>\n",
       "      <td>14.78</td>\n",
       "      <td>6.09</td>\n",
       "      <td>62.16</td>\n",
       "      <td>33.68</td>\n",
       "      <td>22.02</td>\n",
       "      <td>4750000.00</td>\n",
       "      <td>0.00</td>\n",
       "      <td>0.00</td>\n",
       "      <td>17.10</td>\n",
       "    </tr>\n",
       "    <tr>\n",
       "      <th>3265</th>\n",
       "      <td>3266.00</td>\n",
       "      <td>67.70</td>\n",
       "      <td>110.30</td>\n",
       "      <td>64.10</td>\n",
       "      <td>92.20</td>\n",
       "      <td>-1.90</td>\n",
       "      <td>93.20</td>\n",
       "      <td>-2.90</td>\n",
       "      <td>5.10</td>\n",
       "      <td>-2.30</td>\n",
       "      <td>...</td>\n",
       "      <td>13.84</td>\n",
       "      <td>10.04</td>\n",
       "      <td>4.78</td>\n",
       "      <td>11.28</td>\n",
       "      <td>13.38</td>\n",
       "      <td>3.57</td>\n",
       "      <td>489240.00</td>\n",
       "      <td>-7.56</td>\n",
       "      <td>-7.56</td>\n",
       "      <td>110.30</td>\n",
       "    </tr>\n",
       "  </tbody>\n",
       "</table>\n",
       "<p>5 rows × 49 columns</p>\n",
       "</div>"
      ],
      "text/plain": [
       "         Num  Networth_Next_Year  Total_assets  Net_worth  Total_income  \\\n",
       "2893 2894.00              574.50        699.00     537.80        686.00   \n",
       "4243 4244.00                0.00       1098.70      39.70        914.40   \n",
       "3345 3346.00               30.60         30.50      30.50          0.30   \n",
       "332   333.00                7.90         17.10       8.50         34.20   \n",
       "3265 3266.00               67.70        110.30      64.10         92.20   \n",
       "\n",
       "      Change_in_stock  Total_expenses  Profit_after_tax  PBDITA   PBT  ...  \\\n",
       "2893            27.50          692.10             21.40   49.80 22.50  ...   \n",
       "4243             2.40          914.50              2.30   66.70  2.50  ...   \n",
       "3345             1.60            8.20             -7.90    0.00 -7.90  ...   \n",
       "332             -0.30           33.40              0.50    2.00  0.80  ...   \n",
       "3265            -1.90           93.20             -2.90    5.10 -2.30  ...   \n",
       "\n",
       "      Cash_to_average_cost_of_sales_per_day  Creditors_turnover  \\\n",
       "2893                                  15.64               18.88   \n",
       "4243                                  13.72                4.52   \n",
       "3345                                  48.70                6.17   \n",
       "332                                    0.00               14.78   \n",
       "3265                                  13.84               10.04   \n",
       "\n",
       "      Debtors_turnover  Finished_goods_turnover  WIP_turnover  \\\n",
       "2893             21.41                    15.72          8.46   \n",
       "4243              4.65                    62.16         33.68   \n",
       "3345              6.47                    17.32          9.86   \n",
       "332               6.09                    62.16         33.68   \n",
       "3265              4.78                    11.28         13.38   \n",
       "\n",
       "      Raw_material_turnover  Shares_outstanding   EPS  Adjusted_EPS  \\\n",
       "2893                  22.02          4847750.00  3.61          1.80   \n",
       "4243                  14.02           340000.00  6.76          6.76   \n",
       "3345                   6.41          4750000.00  0.00          0.00   \n",
       "332                   22.02          4750000.00  0.00          0.00   \n",
       "3265                   3.57           489240.00 -7.56         -7.56   \n",
       "\n",
       "      Total_liabilities  \n",
       "2893             699.00  \n",
       "4243            1098.70  \n",
       "3345              30.50  \n",
       "332               17.10  \n",
       "3265             110.30  \n",
       "\n",
       "[5 rows x 49 columns]"
      ]
     },
     "execution_count": 99,
     "metadata": {},
     "output_type": "execute_result"
    }
   ],
   "source": [
    "X_train.head()"
   ]
  },
  {
   "cell_type": "code",
   "execution_count": 100,
   "id": "4b8ae324",
   "metadata": {},
   "outputs": [
    {
     "data": {
      "text/html": [
       "<div>\n",
       "<style scoped>\n",
       "    .dataframe tbody tr th:only-of-type {\n",
       "        vertical-align: middle;\n",
       "    }\n",
       "\n",
       "    .dataframe tbody tr th {\n",
       "        vertical-align: top;\n",
       "    }\n",
       "\n",
       "    .dataframe thead th {\n",
       "        text-align: right;\n",
       "    }\n",
       "</style>\n",
       "<table border=\"1\" class=\"dataframe\">\n",
       "  <thead>\n",
       "    <tr style=\"text-align: right;\">\n",
       "      <th></th>\n",
       "      <th>default</th>\n",
       "    </tr>\n",
       "  </thead>\n",
       "  <tbody>\n",
       "    <tr>\n",
       "      <th>2893</th>\n",
       "      <td>0</td>\n",
       "    </tr>\n",
       "    <tr>\n",
       "      <th>4243</th>\n",
       "      <td>1</td>\n",
       "    </tr>\n",
       "    <tr>\n",
       "      <th>3345</th>\n",
       "      <td>0</td>\n",
       "    </tr>\n",
       "    <tr>\n",
       "      <th>332</th>\n",
       "      <td>0</td>\n",
       "    </tr>\n",
       "    <tr>\n",
       "      <th>3265</th>\n",
       "      <td>0</td>\n",
       "    </tr>\n",
       "  </tbody>\n",
       "</table>\n",
       "</div>"
      ],
      "text/plain": [
       "      default\n",
       "2893        0\n",
       "4243        1\n",
       "3345        0\n",
       "332         0\n",
       "3265        0"
      ]
     },
     "execution_count": 100,
     "metadata": {},
     "output_type": "execute_result"
    }
   ],
   "source": [
    "Y_train.head()"
   ]
  },
  {
   "cell_type": "code",
   "execution_count": 101,
   "id": "0fa7474a",
   "metadata": {},
   "outputs": [
    {
     "data": {
      "text/html": [
       "<div>\n",
       "<style scoped>\n",
       "    .dataframe tbody tr th:only-of-type {\n",
       "        vertical-align: middle;\n",
       "    }\n",
       "\n",
       "    .dataframe tbody tr th {\n",
       "        vertical-align: top;\n",
       "    }\n",
       "\n",
       "    .dataframe thead th {\n",
       "        text-align: right;\n",
       "    }\n",
       "</style>\n",
       "<table border=\"1\" class=\"dataframe\">\n",
       "  <thead>\n",
       "    <tr style=\"text-align: right;\">\n",
       "      <th></th>\n",
       "      <th>Num</th>\n",
       "      <th>Networth_Next_Year</th>\n",
       "      <th>Total_assets</th>\n",
       "      <th>Net_worth</th>\n",
       "      <th>Total_income</th>\n",
       "      <th>Change_in_stock</th>\n",
       "      <th>Total_expenses</th>\n",
       "      <th>Profit_after_tax</th>\n",
       "      <th>PBDITA</th>\n",
       "      <th>PBT</th>\n",
       "      <th>...</th>\n",
       "      <th>Cash_to_average_cost_of_sales_per_day</th>\n",
       "      <th>Creditors_turnover</th>\n",
       "      <th>Debtors_turnover</th>\n",
       "      <th>Finished_goods_turnover</th>\n",
       "      <th>WIP_turnover</th>\n",
       "      <th>Raw_material_turnover</th>\n",
       "      <th>Shares_outstanding</th>\n",
       "      <th>EPS</th>\n",
       "      <th>Adjusted_EPS</th>\n",
       "      <th>Total_liabilities</th>\n",
       "    </tr>\n",
       "  </thead>\n",
       "  <tbody>\n",
       "    <tr>\n",
       "      <th>2302</th>\n",
       "      <td>2303.00</td>\n",
       "      <td>161.10</td>\n",
       "      <td>323.30</td>\n",
       "      <td>156.50</td>\n",
       "      <td>616.20</td>\n",
       "      <td>34.00</td>\n",
       "      <td>632.00</td>\n",
       "      <td>18.20</td>\n",
       "      <td>19.30</td>\n",
       "      <td>18.80</td>\n",
       "      <td>...</td>\n",
       "      <td>10.69</td>\n",
       "      <td>3.54</td>\n",
       "      <td>21.41</td>\n",
       "      <td>13.45</td>\n",
       "      <td>12.91</td>\n",
       "      <td>22.02</td>\n",
       "      <td>5171400.00</td>\n",
       "      <td>3.93</td>\n",
       "      <td>3.93</td>\n",
       "      <td>323.30</td>\n",
       "    </tr>\n",
       "    <tr>\n",
       "      <th>2296</th>\n",
       "      <td>2297.00</td>\n",
       "      <td>821.10</td>\n",
       "      <td>2083.00</td>\n",
       "      <td>927.41</td>\n",
       "      <td>1942.60</td>\n",
       "      <td>-22.19</td>\n",
       "      <td>1818.40</td>\n",
       "      <td>27.70</td>\n",
       "      <td>126.80</td>\n",
       "      <td>41.20</td>\n",
       "      <td>...</td>\n",
       "      <td>18.75</td>\n",
       "      <td>3.70</td>\n",
       "      <td>6.06</td>\n",
       "      <td>23.03</td>\n",
       "      <td>21.51</td>\n",
       "      <td>5.04</td>\n",
       "      <td>7609900.00</td>\n",
       "      <td>8.28</td>\n",
       "      <td>8.28</td>\n",
       "      <td>2083.00</td>\n",
       "    </tr>\n",
       "    <tr>\n",
       "      <th>4075</th>\n",
       "      <td>4076.00</td>\n",
       "      <td>157.20</td>\n",
       "      <td>279.90</td>\n",
       "      <td>115.90</td>\n",
       "      <td>523.30</td>\n",
       "      <td>22.70</td>\n",
       "      <td>487.80</td>\n",
       "      <td>58.20</td>\n",
       "      <td>95.90</td>\n",
       "      <td>89.20</td>\n",
       "      <td>...</td>\n",
       "      <td>13.99</td>\n",
       "      <td>2.81</td>\n",
       "      <td>4.68</td>\n",
       "      <td>62.16</td>\n",
       "      <td>11.98</td>\n",
       "      <td>5.53</td>\n",
       "      <td>12012.00</td>\n",
       "      <td>25.00</td>\n",
       "      <td>19.04</td>\n",
       "      <td>279.90</td>\n",
       "    </tr>\n",
       "    <tr>\n",
       "      <th>3416</th>\n",
       "      <td>3417.00</td>\n",
       "      <td>47.00</td>\n",
       "      <td>84.60</td>\n",
       "      <td>43.90</td>\n",
       "      <td>121.60</td>\n",
       "      <td>0.00</td>\n",
       "      <td>117.60</td>\n",
       "      <td>4.00</td>\n",
       "      <td>10.20</td>\n",
       "      <td>6.10</td>\n",
       "      <td>...</td>\n",
       "      <td>0.97</td>\n",
       "      <td>6.20</td>\n",
       "      <td>9.38</td>\n",
       "      <td>49.32</td>\n",
       "      <td>33.68</td>\n",
       "      <td>2.36</td>\n",
       "      <td>4750000.00</td>\n",
       "      <td>0.00</td>\n",
       "      <td>0.00</td>\n",
       "      <td>84.60</td>\n",
       "    </tr>\n",
       "    <tr>\n",
       "      <th>3609</th>\n",
       "      <td>3610.00</td>\n",
       "      <td>373.50</td>\n",
       "      <td>709.00</td>\n",
       "      <td>339.80</td>\n",
       "      <td>960.60</td>\n",
       "      <td>20.70</td>\n",
       "      <td>958.50</td>\n",
       "      <td>22.80</td>\n",
       "      <td>70.20</td>\n",
       "      <td>14.80</td>\n",
       "      <td>...</td>\n",
       "      <td>5.99</td>\n",
       "      <td>21.09</td>\n",
       "      <td>11.74</td>\n",
       "      <td>38.67</td>\n",
       "      <td>33.68</td>\n",
       "      <td>14.10</td>\n",
       "      <td>4750000.00</td>\n",
       "      <td>-0.01</td>\n",
       "      <td>-0.01</td>\n",
       "      <td>709.00</td>\n",
       "    </tr>\n",
       "  </tbody>\n",
       "</table>\n",
       "<p>5 rows × 49 columns</p>\n",
       "</div>"
      ],
      "text/plain": [
       "         Num  Networth_Next_Year  Total_assets  Net_worth  Total_income  \\\n",
       "2302 2303.00              161.10        323.30     156.50        616.20   \n",
       "2296 2297.00              821.10       2083.00     927.41       1942.60   \n",
       "4075 4076.00              157.20        279.90     115.90        523.30   \n",
       "3416 3417.00               47.00         84.60      43.90        121.60   \n",
       "3609 3610.00              373.50        709.00     339.80        960.60   \n",
       "\n",
       "      Change_in_stock  Total_expenses  Profit_after_tax  PBDITA   PBT  ...  \\\n",
       "2302            34.00          632.00             18.20   19.30 18.80  ...   \n",
       "2296           -22.19         1818.40             27.70  126.80 41.20  ...   \n",
       "4075            22.70          487.80             58.20   95.90 89.20  ...   \n",
       "3416             0.00          117.60              4.00   10.20  6.10  ...   \n",
       "3609            20.70          958.50             22.80   70.20 14.80  ...   \n",
       "\n",
       "      Cash_to_average_cost_of_sales_per_day  Creditors_turnover  \\\n",
       "2302                                  10.69                3.54   \n",
       "2296                                  18.75                3.70   \n",
       "4075                                  13.99                2.81   \n",
       "3416                                   0.97                6.20   \n",
       "3609                                   5.99               21.09   \n",
       "\n",
       "      Debtors_turnover  Finished_goods_turnover  WIP_turnover  \\\n",
       "2302             21.41                    13.45         12.91   \n",
       "2296              6.06                    23.03         21.51   \n",
       "4075              4.68                    62.16         11.98   \n",
       "3416              9.38                    49.32         33.68   \n",
       "3609             11.74                    38.67         33.68   \n",
       "\n",
       "      Raw_material_turnover  Shares_outstanding   EPS  Adjusted_EPS  \\\n",
       "2302                  22.02          5171400.00  3.93          3.93   \n",
       "2296                   5.04          7609900.00  8.28          8.28   \n",
       "4075                   5.53            12012.00 25.00         19.04   \n",
       "3416                   2.36          4750000.00  0.00          0.00   \n",
       "3609                  14.10          4750000.00 -0.01         -0.01   \n",
       "\n",
       "      Total_liabilities  \n",
       "2302             323.30  \n",
       "2296            2083.00  \n",
       "4075             279.90  \n",
       "3416              84.60  \n",
       "3609             709.00  \n",
       "\n",
       "[5 rows x 49 columns]"
      ]
     },
     "execution_count": 101,
     "metadata": {},
     "output_type": "execute_result"
    }
   ],
   "source": [
    "X_test.head()"
   ]
  },
  {
   "cell_type": "code",
   "execution_count": 102,
   "id": "ff621a19",
   "metadata": {},
   "outputs": [
    {
     "data": {
      "text/html": [
       "<div>\n",
       "<style scoped>\n",
       "    .dataframe tbody tr th:only-of-type {\n",
       "        vertical-align: middle;\n",
       "    }\n",
       "\n",
       "    .dataframe tbody tr th {\n",
       "        vertical-align: top;\n",
       "    }\n",
       "\n",
       "    .dataframe thead th {\n",
       "        text-align: right;\n",
       "    }\n",
       "</style>\n",
       "<table border=\"1\" class=\"dataframe\">\n",
       "  <thead>\n",
       "    <tr style=\"text-align: right;\">\n",
       "      <th></th>\n",
       "      <th>default</th>\n",
       "    </tr>\n",
       "  </thead>\n",
       "  <tbody>\n",
       "    <tr>\n",
       "      <th>2302</th>\n",
       "      <td>0</td>\n",
       "    </tr>\n",
       "    <tr>\n",
       "      <th>2296</th>\n",
       "      <td>0</td>\n",
       "    </tr>\n",
       "    <tr>\n",
       "      <th>4075</th>\n",
       "      <td>0</td>\n",
       "    </tr>\n",
       "    <tr>\n",
       "      <th>3416</th>\n",
       "      <td>0</td>\n",
       "    </tr>\n",
       "    <tr>\n",
       "      <th>3609</th>\n",
       "      <td>0</td>\n",
       "    </tr>\n",
       "  </tbody>\n",
       "</table>\n",
       "</div>"
      ],
      "text/plain": [
       "      default\n",
       "2302        0\n",
       "2296        0\n",
       "4075        0\n",
       "3416        0\n",
       "3609        0"
      ]
     },
     "execution_count": 102,
     "metadata": {},
     "output_type": "execute_result"
    }
   ],
   "source": [
    "Y_test.head()"
   ]
  },
  {
   "cell_type": "markdown",
   "id": "44f86a52",
   "metadata": {},
   "source": [
    "# 5. Build Logistic Regression Model (using statsmodel library) on most important variables on Train Dataset and choose the optimum cutoff. Also showcase your model building approach"
   ]
  },
  {
   "cell_type": "code",
   "execution_count": 103,
   "id": "eff2498a",
   "metadata": {},
   "outputs": [],
   "source": [
    "from sklearn.feature_selection import RFE "
   ]
  },
  {
   "cell_type": "code",
   "execution_count": 104,
   "id": "d0eb7a15",
   "metadata": {},
   "outputs": [],
   "source": [
    "from sklearn.linear_model import LogisticRegression\n",
    "import statsmodels.formula.api as SM"
   ]
  },
  {
   "cell_type": "markdown",
   "id": "069ef219",
   "metadata": {},
   "source": [
    "### For modeling we will use Logistic Regression with recursive feature elimination"
   ]
  },
  {
   "cell_type": "code",
   "execution_count": 105,
   "id": "402f88b1",
   "metadata": {},
   "outputs": [],
   "source": [
    "LogR = LogisticRegression()"
   ]
  },
  {
   "cell_type": "code",
   "execution_count": 106,
   "id": "6f441b2a",
   "metadata": {},
   "outputs": [],
   "source": [
    "# we using regression feature elimination total number of feartures are 50 out of we will be selected 15 features\n",
    "selector = RFE(estimator = LogR, n_features_to_select=15, step=1)"
   ]
  },
  {
   "cell_type": "code",
   "execution_count": 107,
   "id": "8ac35d79",
   "metadata": {},
   "outputs": [],
   "source": [
    "selector = selector.fit(X_train, Y_train)"
   ]
  },
  {
   "cell_type": "code",
   "execution_count": 108,
   "id": "fea86316",
   "metadata": {},
   "outputs": [
    {
     "data": {
      "text/plain": [
       "15"
      ]
     },
     "execution_count": 108,
     "metadata": {},
     "output_type": "execute_result"
    }
   ],
   "source": [
    "selector.n_features_"
   ]
  },
  {
   "cell_type": "code",
   "execution_count": 109,
   "id": "3b387387",
   "metadata": {},
   "outputs": [
    {
     "data": {
      "text/plain": [
       "array([32,  1,  5,  1, 30, 26, 19,  6,  1, 18,  3, 27, 33, 25, 17, 22, 23,\n",
       "       15,  1, 11,  1, 21,  4, 29, 16,  1,  1,  1,  2, 20, 28,  8,  9, 14,\n",
       "       24,  1, 10,  1, 34,  1,  1,  7,  1, 31,  1, 35,  1, 12, 13])"
      ]
     },
     "execution_count": 109,
     "metadata": {},
     "output_type": "execute_result"
    }
   ],
   "source": [
    "selector.ranking_"
   ]
  },
  {
   "cell_type": "code",
   "execution_count": 110,
   "id": "0dd1bae4",
   "metadata": {},
   "outputs": [
    {
     "data": {
      "text/html": [
       "<div>\n",
       "<style scoped>\n",
       "    .dataframe tbody tr th:only-of-type {\n",
       "        vertical-align: middle;\n",
       "    }\n",
       "\n",
       "    .dataframe tbody tr th {\n",
       "        vertical-align: top;\n",
       "    }\n",
       "\n",
       "    .dataframe thead th {\n",
       "        text-align: right;\n",
       "    }\n",
       "</style>\n",
       "<table border=\"1\" class=\"dataframe\">\n",
       "  <thead>\n",
       "    <tr style=\"text-align: right;\">\n",
       "      <th></th>\n",
       "      <th>Feature</th>\n",
       "      <th>Rank</th>\n",
       "    </tr>\n",
       "  </thead>\n",
       "  <tbody>\n",
       "    <tr>\n",
       "      <th>1</th>\n",
       "      <td>Networth_Next_Year</td>\n",
       "      <td>1</td>\n",
       "    </tr>\n",
       "    <tr>\n",
       "      <th>3</th>\n",
       "      <td>Net_worth</td>\n",
       "      <td>1</td>\n",
       "    </tr>\n",
       "    <tr>\n",
       "      <th>8</th>\n",
       "      <td>PBDITA</td>\n",
       "      <td>1</td>\n",
       "    </tr>\n",
       "    <tr>\n",
       "      <th>18</th>\n",
       "      <td>Other_income</td>\n",
       "      <td>1</td>\n",
       "    </tr>\n",
       "    <tr>\n",
       "      <th>20</th>\n",
       "      <td>Reserves_and_funds</td>\n",
       "      <td>1</td>\n",
       "    </tr>\n",
       "    <tr>\n",
       "      <th>25</th>\n",
       "      <td>Cumulative_retained_profits</td>\n",
       "      <td>1</td>\n",
       "    </tr>\n",
       "    <tr>\n",
       "      <th>26</th>\n",
       "      <td>Capital_employed</td>\n",
       "      <td>1</td>\n",
       "    </tr>\n",
       "    <tr>\n",
       "      <th>27</th>\n",
       "      <td>TOL_to_TNW</td>\n",
       "      <td>1</td>\n",
       "    </tr>\n",
       "    <tr>\n",
       "      <th>35</th>\n",
       "      <td>Quick_ratio_times</td>\n",
       "      <td>1</td>\n",
       "    </tr>\n",
       "    <tr>\n",
       "      <th>37</th>\n",
       "      <td>Debt_to_equity_ratio_times</td>\n",
       "      <td>1</td>\n",
       "    </tr>\n",
       "    <tr>\n",
       "      <th>39</th>\n",
       "      <td>Cash_to_average_cost_of_sales_per_day</td>\n",
       "      <td>1</td>\n",
       "    </tr>\n",
       "    <tr>\n",
       "      <th>40</th>\n",
       "      <td>Creditors_turnover</td>\n",
       "      <td>1</td>\n",
       "    </tr>\n",
       "    <tr>\n",
       "      <th>42</th>\n",
       "      <td>Finished_goods_turnover</td>\n",
       "      <td>1</td>\n",
       "    </tr>\n",
       "    <tr>\n",
       "      <th>44</th>\n",
       "      <td>Raw_material_turnover</td>\n",
       "      <td>1</td>\n",
       "    </tr>\n",
       "    <tr>\n",
       "      <th>46</th>\n",
       "      <td>EPS</td>\n",
       "      <td>1</td>\n",
       "    </tr>\n",
       "  </tbody>\n",
       "</table>\n",
       "</div>"
      ],
      "text/plain": [
       "                                  Feature  Rank\n",
       "1                      Networth_Next_Year     1\n",
       "3                               Net_worth     1\n",
       "8                                  PBDITA     1\n",
       "18                           Other_income     1\n",
       "20                     Reserves_and_funds     1\n",
       "25            Cumulative_retained_profits     1\n",
       "26                       Capital_employed     1\n",
       "27                             TOL_to_TNW     1\n",
       "35                      Quick_ratio_times     1\n",
       "37             Debt_to_equity_ratio_times     1\n",
       "39  Cash_to_average_cost_of_sales_per_day     1\n",
       "40                     Creditors_turnover     1\n",
       "42                Finished_goods_turnover     1\n",
       "44                  Raw_material_turnover     1\n",
       "46                                    EPS     1"
      ]
     },
     "execution_count": 110,
     "metadata": {},
     "output_type": "execute_result"
    }
   ],
   "source": [
    "df = pd.DataFrame({'Feature': scaled_predictors.columns, 'Rank': selector.ranking_})\n",
    "df[df['Rank'] == 1]"
   ]
  },
  {
   "cell_type": "markdown",
   "id": "ae64bd94",
   "metadata": {},
   "source": [
    "# 6. Checking the accuracy of the model using confusion matrix for training set  "
   ]
  },
  {
   "cell_type": "code",
   "execution_count": 111,
   "id": "c0b72a62",
   "metadata": {},
   "outputs": [],
   "source": [
    "from sklearn.metrics import classification_report, recall_score,precision_score,f1_score \n",
    "from sklearn.model_selection import GridSearchCV\n",
    "from sklearn.metrics import classification_report, ConfusionMatrixDisplay, RocCurveDisplay\n",
    "from sklearn.metrics import roc_auc_score,roc_curve,classification_report,confusion_matrix"
   ]
  },
  {
   "cell_type": "code",
   "execution_count": 112,
   "id": "23cac328",
   "metadata": {},
   "outputs": [],
   "source": [
    "pred_train = selector.predict(X_train)\n",
    "pred_test = selector.predict(X_test)"
   ]
  },
  {
   "cell_type": "markdown",
   "id": "b2936e6c",
   "metadata": {},
   "source": [
    "## Train data"
   ]
  },
  {
   "cell_type": "code",
   "execution_count": 113,
   "id": "eb003003",
   "metadata": {},
   "outputs": [
    {
     "name": "stdout",
     "output_type": "stream",
     "text": [
      "[[2237    8]\n",
      " [   0  606]]\n"
     ]
    }
   ],
   "source": [
    "print(confusion_matrix(Y_train, pred_train))"
   ]
  },
  {
   "cell_type": "code",
   "execution_count": 114,
   "id": "e1d6dda5",
   "metadata": {},
   "outputs": [
    {
     "name": "stdout",
     "output_type": "stream",
     "text": [
      "              precision    recall  f1-score   support\n",
      "\n",
      "           0       1.00      1.00      1.00      2245\n",
      "           1       0.99      1.00      0.99       606\n",
      "\n",
      "    accuracy                           1.00      2851\n",
      "   macro avg       0.99      1.00      1.00      2851\n",
      "weighted avg       1.00      1.00      1.00      2851\n",
      "\n"
     ]
    }
   ],
   "source": [
    "print(classification_report(Y_train, pred_train))"
   ]
  },
  {
   "cell_type": "markdown",
   "id": "205936e3",
   "metadata": {},
   "source": [
    "## Performance Matrix on train data set"
   ]
  },
  {
   "cell_type": "code",
   "execution_count": 115,
   "id": "81d57dbe",
   "metadata": {},
   "outputs": [
    {
     "name": "stdout",
     "output_type": "stream",
     "text": [
      "0.9971939670291126 1.0 0.9869706840390879 0.9934426229508196 0.9999220857497777\n"
     ]
    }
   ],
   "source": [
    "log_train_predict =selector.predict(X_train)\n",
    "log_train_score = selector.score(X_train, Y_train) # acc score\n",
    "log_train_recall_score = recall_score(Y_train,log_train_predict)\n",
    "log_train_precision_score = precision_score(Y_train,log_train_predict)\n",
    "log_train_f1_score = f1_score(Y_train,log_train_predict)\n",
    "log_train_auc=roc_auc_score(Y_train,selector.predict_proba(X_train)[:,1])\n",
    "print(log_train_score,log_train_recall_score,log_train_precision_score,log_train_f1_score,log_train_auc)"
   ]
  },
  {
   "cell_type": "markdown",
   "id": "d6d714d5",
   "metadata": {},
   "source": [
    "## ROC Curve"
   ]
  },
  {
   "cell_type": "code",
   "execution_count": 116,
   "id": "bdf70246",
   "metadata": {},
   "outputs": [
    {
     "data": {
      "image/png": "[encoded data removed]",
      "text/plain": [
       "<Figure size 640x480 with 1 Axes>"
      ]
     },
     "metadata": {},
     "output_type": "display_data"
    },
    {
     "name": "stdout",
     "output_type": "stream",
     "text": [
      "Area under Curve is 0.9999220857497777\n"
     ]
    }
   ],
   "source": [
    "log_train_fpr, log_train_tpr,_=roc_curve(Y_train,selector.predict_proba(X_train)[:,1])\n",
    "plt.plot(log_train_fpr,log_train_tpr,color='green')\n",
    "plt.plot([0, 1], [0, 1], linestyle='--')\n",
    "plt.xlabel('False Positive Rate')\n",
    "plt.ylabel('True Positive Rate')\n",
    "plt.title('ROC')\n",
    "plt.show();\n",
    "print('Area under Curve is', log_train_auc)"
   ]
  },
  {
   "cell_type": "markdown",
   "id": "47ed4ff5",
   "metadata": {},
   "source": [
    "# 7.Checking the accuracy of the model using confusion matrix for test set"
   ]
  },
  {
   "cell_type": "markdown",
   "id": "e2c44376",
   "metadata": {},
   "source": [
    "## Test data"
   ]
  },
  {
   "cell_type": "code",
   "execution_count": 117,
   "id": "0903a44d",
   "metadata": {},
   "outputs": [
    {
     "name": "stdout",
     "output_type": "stream",
     "text": [
      "[[1102    5]\n",
      " [   1  297]]\n"
     ]
    }
   ],
   "source": [
    "print(confusion_matrix(Y_test, pred_test))"
   ]
  },
  {
   "cell_type": "code",
   "execution_count": 118,
   "id": "c049057e",
   "metadata": {},
   "outputs": [
    {
     "name": "stdout",
     "output_type": "stream",
     "text": [
      "              precision    recall  f1-score   support\n",
      "\n",
      "           0       1.00      1.00      1.00      1107\n",
      "           1       0.98      1.00      0.99       298\n",
      "\n",
      "    accuracy                           1.00      1405\n",
      "   macro avg       0.99      1.00      0.99      1405\n",
      "weighted avg       1.00      1.00      1.00      1405\n",
      "\n"
     ]
    }
   ],
   "source": [
    "print(classification_report(Y_test, pred_test))"
   ]
  },
  {
   "cell_type": "markdown",
   "id": "5f1704f1",
   "metadata": {},
   "source": [
    "## Performance Matrix on test data set"
   ]
  },
  {
   "cell_type": "code",
   "execution_count": 119,
   "id": "d2775162",
   "metadata": {},
   "outputs": [
    {
     "name": "stdout",
     "output_type": "stream",
     "text": [
      "0.995729537366548 0.9966442953020134 0.9834437086092715 0.99 0.9999220857497777\n"
     ]
    }
   ],
   "source": [
    "log_test_predict = selector.predict(X_test)\n",
    "log_test_score = selector.score(X_test, Y_test)\n",
    "log_test_recall_score = recall_score(Y_test,log_test_predict)\n",
    "log_test_precision_score = precision_score(Y_test,log_test_predict)\n",
    "log_test_f1_score = f1_score(Y_test,log_test_predict)\n",
    "log_test_auc=roc_auc_score(Y_train,selector.predict_proba(X_train)[:,1])\n",
    "print(log_test_score,log_test_recall_score,log_test_precision_score,log_test_f1_score,log_test_auc)"
   ]
  },
  {
   "cell_type": "markdown",
   "id": "5481a221",
   "metadata": {},
   "source": [
    "## ROC Curve"
   ]
  },
  {
   "cell_type": "code",
   "execution_count": 120,
   "id": "4e965e8c",
   "metadata": {},
   "outputs": [
    {
     "data": {
      "image/png": "[encoded data removed]",
      "text/plain": [
       "<Figure size 640x480 with 1 Axes>"
      ]
     },
     "metadata": {},
     "output_type": "display_data"
    },
    {
     "name": "stdout",
     "output_type": "stream",
     "text": [
      "Area under Curve is 0.9999220857497777\n"
     ]
    }
   ],
   "source": [
    "log_test_fpr, log_test_tpr,_=roc_curve(Y_test,selector.predict_proba(X_test)[:,1])\n",
    "plt.plot(log_test_fpr,log_test_tpr,color='green')\n",
    "plt.plot([0, 1], [0, 1], linestyle='--')\n",
    "plt.xlabel('False Positive Rate')\n",
    "plt.ylabel('True Positive Rate')\n",
    "plt.title('ROC')\n",
    "plt.show();\n",
    "print('Area under Curve is', log_test_auc)"
   ]
  },
  {
   "cell_type": "markdown",
   "id": "c5127d14",
   "metadata": {},
   "source": [
    "# 8. Build a Random Forest Model on Train Dataset. Also showcase your model building approach"
   ]
  },
  {
   "cell_type": "markdown",
   "id": "621116e5",
   "metadata": {},
   "source": [
    "## Random Forest"
   ]
  },
  {
   "cell_type": "code",
   "execution_count": 121,
   "id": "729884e7",
   "metadata": {},
   "outputs": [],
   "source": [
    "from sklearn.ensemble import RandomForestClassifier"
   ]
  },
  {
   "cell_type": "code",
   "execution_count": 122,
   "id": "89601fd7",
   "metadata": {},
   "outputs": [],
   "source": [
    "param_grid = {\n",
    "    'max_depth': [10,15,20],## 10,15,20\n",
    "    'max_features': [4,6,8],## 4,6,8\n",
    "    'min_samples_leaf': [25,50,100],## 50,100\n",
    "    'min_samples_split': [25,50,100], ## 25,50,100\n",
    "    'n_estimators': [100,200] ## 100,200\n",
    "}\n",
    "\n",
    "rf = RandomForestClassifier(random_state=42)\n",
    "\n",
    "grid_search = GridSearchCV(estimator = rf, param_grid = param_grid, cv = 5)"
   ]
  },
  {
   "cell_type": "code",
   "execution_count": 123,
   "id": "f77720f6",
   "metadata": {},
   "outputs": [
    {
     "name": "stdout",
     "output_type": "stream",
     "text": [
      "{'max_depth': 10, 'max_features': 6, 'min_samples_leaf': 25, 'min_samples_split': 25, 'n_estimators': 100}\n"
     ]
    },
    {
     "data": {
      "text/html": [
       "<style>#sk-container-id-1 {color: black;background-color: white;}#sk-container-id-1 pre{padding: 0;}#sk-container-id-1 div.sk-toggleable {background-color: white;}#sk-container-id-1 label.sk-toggleable__label {cursor: pointer;display: block;width: 100%;margin-bottom: 0;padding: 0.3em;box-sizing: border-box;text-align: center;}#sk-container-id-1 label.sk-toggleable__label-arrow:before {content: \"▸\";float: left;margin-right: 0.25em;color: #696969;}#sk-container-id-1 label.sk-toggleable__label-arrow:hover:before {color: black;}#sk-container-id-1 div.sk-estimator:hover label.sk-toggleable__label-arrow:before {color: black;}#sk-container-id-1 div.sk-toggleable__content {max-height: 0;max-width: 0;overflow: hidden;text-align: left;background-color: #f0f8ff;}#sk-container-id-1 div.sk-toggleable__content pre {margin: 0.2em;color: black;border-radius: 0.25em;background-color: #f0f8ff;}#sk-container-id-1 input.sk-toggleable__control:checked~div.sk-toggleable__content {max-height: 200px;max-width: 100%;overflow: auto;}#sk-container-id-1 input.sk-toggleable__control:checked~label.sk-toggleable__label-arrow:before {content: \"▾\";}#sk-container-id-1 div.sk-estimator input.sk-toggleable__control:checked~label.sk-toggleable__label {background-color: #d4ebff;}#sk-container-id-1 div.sk-label input.sk-toggleable__control:checked~label.sk-toggleable__label {background-color: #d4ebff;}#sk-container-id-1 input.sk-hidden--visually {border: 0;clip: rect(1px 1px 1px 1px);clip: rect(1px, 1px, 1px, 1px);height: 1px;margin: -1px;overflow: hidden;padding: 0;position: absolute;width: 1px;}#sk-container-id-1 div.sk-estimator {font-family: monospace;background-color: #f0f8ff;border: 1px dotted black;border-radius: 0.25em;box-sizing: border-box;margin-bottom: 0.5em;}#sk-container-id-1 div.sk-estimator:hover {background-color: #d4ebff;}#sk-container-id-1 div.sk-parallel-item::after {content: \"\";width: 100%;border-bottom: 1px solid gray;flex-grow: 1;}#sk-container-id-1 div.sk-label:hover label.sk-toggleable__label {background-color: #d4ebff;}#sk-container-id-1 div.sk-serial::before {content: \"\";position: absolute;border-left: 1px solid gray;box-sizing: border-box;top: 0;bottom: 0;left: 50%;z-index: 0;}#sk-container-id-1 div.sk-serial {display: flex;flex-direction: column;align-items: center;background-color: white;padding-right: 0.2em;padding-left: 0.2em;position: relative;}#sk-container-id-1 div.sk-item {position: relative;z-index: 1;}#sk-container-id-1 div.sk-parallel {display: flex;align-items: stretch;justify-content: center;background-color: white;position: relative;}#sk-container-id-1 div.sk-item::before, #sk-container-id-1 div.sk-parallel-item::before {content: \"\";position: absolute;border-left: 1px solid gray;box-sizing: border-box;top: 0;bottom: 0;left: 50%;z-index: -1;}#sk-container-id-1 div.sk-parallel-item {display: flex;flex-direction: column;z-index: 1;position: relative;background-color: white;}#sk-container-id-1 div.sk-parallel-item:first-child::after {align-self: flex-end;width: 50%;}#sk-container-id-1 div.sk-parallel-item:last-child::after {align-self: flex-start;width: 50%;}#sk-container-id-1 div.sk-parallel-item:only-child::after {width: 0;}#sk-container-id-1 div.sk-dashed-wrapped {border: 1px dashed gray;margin: 0 0.4em 0.5em 0.4em;box-sizing: border-box;padding-bottom: 0.4em;background-color: white;}#sk-container-id-1 div.sk-label label {font-family: monospace;font-weight: bold;display: inline-block;line-height: 1.2em;}#sk-container-id-1 div.sk-label-container {text-align: center;}#sk-container-id-1 div.sk-container {/* jupyter's `normalize.less` sets `[hidden] { display: none; }` but bootstrap.min.css set `[hidden] { display: none !important; }` so we also need the `!important` here to be able to override the default hidden behavior on the sphinx rendered scikit-learn.org. See: https://github.com/scikit-learn/scikit-learn/issues/21755 */display: inline-block !important;position: relative;}#sk-container-id-1 div.sk-text-repr-fallback {display: none;}</style><div id=\"sk-container-id-1\" class=\"sk-top-container\"><div class=\"sk-text-repr-fallback\"><pre>RandomForestClassifier(max_depth=10, max_features=6, min_samples_leaf=25,\n",
       "                       min_samples_split=25, random_state=42)</pre><b>In a Jupyter environment, please rerun this cell to show the HTML representation or trust the notebook. <br />On GitHub, the HTML representation is unable to render, please try loading this page with nbviewer.org.</b></div><div class=\"sk-container\" hidden><div class=\"sk-item\"><div class=\"sk-estimator sk-toggleable\"><input class=\"sk-toggleable__control sk-hidden--visually\" id=\"sk-estimator-id-1\" type=\"checkbox\" checked><label for=\"sk-estimator-id-1\" class=\"sk-toggleable__label sk-toggleable__label-arrow\">RandomForestClassifier</label><div class=\"sk-toggleable__content\"><pre>RandomForestClassifier(max_depth=10, max_features=6, min_samples_leaf=25,\n",
       "                       min_samples_split=25, random_state=42)</pre></div></div></div></div></div>"
      ],
      "text/plain": [
       "RandomForestClassifier(max_depth=10, max_features=6, min_samples_leaf=25,\n",
       "                       min_samples_split=25, random_state=42)"
      ]
     },
     "execution_count": 123,
     "metadata": {},
     "output_type": "execute_result"
    }
   ],
   "source": [
    "grid_search.fit(X_train, Y_train)\n",
    "print(grid_search.best_params_)\n",
    "best_grid = grid_search.best_estimator_\n",
    "best_grid"
   ]
  },
  {
   "cell_type": "code",
   "execution_count": 124,
   "id": "f8e3698a",
   "metadata": {},
   "outputs": [
    {
     "data": {
      "text/plain": [
       "{'max_depth': 10,\n",
       " 'max_features': 6,\n",
       " 'min_samples_leaf': 25,\n",
       " 'min_samples_split': 25,\n",
       " 'n_estimators': 100}"
      ]
     },
     "execution_count": 124,
     "metadata": {},
     "output_type": "execute_result"
    }
   ],
   "source": [
    "grid_search.best_params_"
   ]
  },
  {
   "cell_type": "code",
   "execution_count": 125,
   "id": "5a11f1b9",
   "metadata": {},
   "outputs": [],
   "source": [
    "best_grid = grid_search.best_estimator_"
   ]
  },
  {
   "cell_type": "code",
   "execution_count": 126,
   "id": "23aee0fe",
   "metadata": {},
   "outputs": [
    {
     "data": {
      "text/html": [
       "<style>#sk-container-id-2 {color: black;background-color: white;}#sk-container-id-2 pre{padding: 0;}#sk-container-id-2 div.sk-toggleable {background-color: white;}#sk-container-id-2 label.sk-toggleable__label {cursor: pointer;display: block;width: 100%;margin-bottom: 0;padding: 0.3em;box-sizing: border-box;text-align: center;}#sk-container-id-2 label.sk-toggleable__label-arrow:before {content: \"▸\";float: left;margin-right: 0.25em;color: #696969;}#sk-container-id-2 label.sk-toggleable__label-arrow:hover:before {color: black;}#sk-container-id-2 div.sk-estimator:hover label.sk-toggleable__label-arrow:before {color: black;}#sk-container-id-2 div.sk-toggleable__content {max-height: 0;max-width: 0;overflow: hidden;text-align: left;background-color: #f0f8ff;}#sk-container-id-2 div.sk-toggleable__content pre {margin: 0.2em;color: black;border-radius: 0.25em;background-color: #f0f8ff;}#sk-container-id-2 input.sk-toggleable__control:checked~div.sk-toggleable__content {max-height: 200px;max-width: 100%;overflow: auto;}#sk-container-id-2 input.sk-toggleable__control:checked~label.sk-toggleable__label-arrow:before {content: \"▾\";}#sk-container-id-2 div.sk-estimator input.sk-toggleable__control:checked~label.sk-toggleable__label {background-color: #d4ebff;}#sk-container-id-2 div.sk-label input.sk-toggleable__control:checked~label.sk-toggleable__label {background-color: #d4ebff;}#sk-container-id-2 input.sk-hidden--visually {border: 0;clip: rect(1px 1px 1px 1px);clip: rect(1px, 1px, 1px, 1px);height: 1px;margin: -1px;overflow: hidden;padding: 0;position: absolute;width: 1px;}#sk-container-id-2 div.sk-estimator {font-family: monospace;background-color: #f0f8ff;border: 1px dotted black;border-radius: 0.25em;box-sizing: border-box;margin-bottom: 0.5em;}#sk-container-id-2 div.sk-estimator:hover {background-color: #d4ebff;}#sk-container-id-2 div.sk-parallel-item::after {content: \"\";width: 100%;border-bottom: 1px solid gray;flex-grow: 1;}#sk-container-id-2 div.sk-label:hover label.sk-toggleable__label {background-color: #d4ebff;}#sk-container-id-2 div.sk-serial::before {content: \"\";position: absolute;border-left: 1px solid gray;box-sizing: border-box;top: 0;bottom: 0;left: 50%;z-index: 0;}#sk-container-id-2 div.sk-serial {display: flex;flex-direction: column;align-items: center;background-color: white;padding-right: 0.2em;padding-left: 0.2em;position: relative;}#sk-container-id-2 div.sk-item {position: relative;z-index: 1;}#sk-container-id-2 div.sk-parallel {display: flex;align-items: stretch;justify-content: center;background-color: white;position: relative;}#sk-container-id-2 div.sk-item::before, #sk-container-id-2 div.sk-parallel-item::before {content: \"\";position: absolute;border-left: 1px solid gray;box-sizing: border-box;top: 0;bottom: 0;left: 50%;z-index: -1;}#sk-container-id-2 div.sk-parallel-item {display: flex;flex-direction: column;z-index: 1;position: relative;background-color: white;}#sk-container-id-2 div.sk-parallel-item:first-child::after {align-self: flex-end;width: 50%;}#sk-container-id-2 div.sk-parallel-item:last-child::after {align-self: flex-start;width: 50%;}#sk-container-id-2 div.sk-parallel-item:only-child::after {width: 0;}#sk-container-id-2 div.sk-dashed-wrapped {border: 1px dashed gray;margin: 0 0.4em 0.5em 0.4em;box-sizing: border-box;padding-bottom: 0.4em;background-color: white;}#sk-container-id-2 div.sk-label label {font-family: monospace;font-weight: bold;display: inline-block;line-height: 1.2em;}#sk-container-id-2 div.sk-label-container {text-align: center;}#sk-container-id-2 div.sk-container {/* jupyter's `normalize.less` sets `[hidden] { display: none; }` but bootstrap.min.css set `[hidden] { display: none !important; }` so we also need the `!important` here to be able to override the default hidden behavior on the sphinx rendered scikit-learn.org. See: https://github.com/scikit-learn/scikit-learn/issues/21755 */display: inline-block !important;position: relative;}#sk-container-id-2 div.sk-text-repr-fallback {display: none;}</style><div id=\"sk-container-id-2\" class=\"sk-top-container\"><div class=\"sk-text-repr-fallback\"><pre>RandomForestClassifier(max_depth=10, max_features=6, min_samples_leaf=25,\n",
       "                       min_samples_split=25, random_state=42)</pre><b>In a Jupyter environment, please rerun this cell to show the HTML representation or trust the notebook. <br />On GitHub, the HTML representation is unable to render, please try loading this page with nbviewer.org.</b></div><div class=\"sk-container\" hidden><div class=\"sk-item\"><div class=\"sk-estimator sk-toggleable\"><input class=\"sk-toggleable__control sk-hidden--visually\" id=\"sk-estimator-id-2\" type=\"checkbox\" checked><label for=\"sk-estimator-id-2\" class=\"sk-toggleable__label sk-toggleable__label-arrow\">RandomForestClassifier</label><div class=\"sk-toggleable__content\"><pre>RandomForestClassifier(max_depth=10, max_features=6, min_samples_leaf=25,\n",
       "                       min_samples_split=25, random_state=42)</pre></div></div></div></div></div>"
      ],
      "text/plain": [
       "RandomForestClassifier(max_depth=10, max_features=6, min_samples_leaf=25,\n",
       "                       min_samples_split=25, random_state=42)"
      ]
     },
     "execution_count": 126,
     "metadata": {},
     "output_type": "execute_result"
    }
   ],
   "source": [
    "best_grid"
   ]
  },
  {
   "cell_type": "code",
   "execution_count": 127,
   "id": "45176dbc",
   "metadata": {},
   "outputs": [],
   "source": [
    "#Predicting the Training and Testing data\n",
    "ytrain_predict = best_grid.predict(X_train)\n",
    "ytest_predict = best_grid.predict(X_test)"
   ]
  },
  {
   "cell_type": "code",
   "execution_count": null,
   "id": "9c3545ba",
   "metadata": {},
   "outputs": [],
   "source": []
  },
  {
   "cell_type": "markdown",
   "id": "09eb281a",
   "metadata": {},
   "source": [
    "## Train data"
   ]
  },
  {
   "cell_type": "markdown",
   "id": "2feb872d",
   "metadata": {},
   "source": [
    "## Performance Matrix on train data set"
   ]
  },
  {
   "cell_type": "code",
   "execution_count": 128,
   "id": "00b0a4f2",
   "metadata": {},
   "outputs": [
    {
     "data": {
      "text/plain": [
       "array([[2245,    0],\n",
       "       [   0,  606]], dtype=int64)"
      ]
     },
     "execution_count": 128,
     "metadata": {},
     "output_type": "execute_result"
    }
   ],
   "source": [
    "#RF Model evaluation on Train Data\n",
    "confusion_matrix(Y_train,ytrain_predict)"
   ]
  },
  {
   "cell_type": "code",
   "execution_count": 129,
   "id": "350b0d57",
   "metadata": {},
   "outputs": [
    {
     "data": {
      "image/png": "[encoded data removed]",
      "text/plain": [
       "<Figure size 640x480 with 2 Axes>"
      ]
     },
     "metadata": {},
     "output_type": "display_data"
    }
   ],
   "source": [
    "ConfusionMatrixDisplay.from_estimator(grid_search,X_train,Y_train)\n",
    "plt.grid()\n",
    "plt.show();"
   ]
  },
  {
   "cell_type": "code",
   "execution_count": 130,
   "id": "ae46c2a1",
   "metadata": {},
   "outputs": [
    {
     "data": {
      "text/plain": [
       "1.0"
      ]
     },
     "execution_count": 130,
     "metadata": {},
     "output_type": "execute_result"
    }
   ],
   "source": [
    "rf_train_acc=best_grid.score(X_train, Y_train) \n",
    "rf_train_acc"
   ]
  },
  {
   "cell_type": "code",
   "execution_count": 131,
   "id": "ef99bcf6",
   "metadata": {},
   "outputs": [
    {
     "name": "stdout",
     "output_type": "stream",
     "text": [
      "              precision    recall  f1-score   support\n",
      "\n",
      "           0       1.00      1.00      1.00      2245\n",
      "           1       1.00      1.00      1.00       606\n",
      "\n",
      "    accuracy                           1.00      2851\n",
      "   macro avg       1.00      1.00      1.00      2851\n",
      "weighted avg       1.00      1.00      1.00      2851\n",
      "\n"
     ]
    }
   ],
   "source": [
    "print(classification_report(Y_train,ytrain_predict))"
   ]
  },
  {
   "cell_type": "code",
   "execution_count": 132,
   "id": "3fc1b769",
   "metadata": {},
   "outputs": [
    {
     "name": "stdout",
     "output_type": "stream",
     "text": [
      "1.0 1.0 1.0 1.0\n"
     ]
    }
   ],
   "source": [
    "rf_train_predict = best_grid.predict(X_train)\n",
    "rf_train_score = grid_search.score(X_train, Y_train) # acc score\n",
    "rf_train_recall_score = recall_score(Y_train,rf_train_predict)\n",
    "rf_train_precision_score = precision_score(Y_train,rf_train_predict)\n",
    "rf_train_f1_score = f1_score(Y_train,rf_train_predict)\n",
    "print(rf_train_score,rf_train_recall_score,rf_train_precision_score,rf_train_f1_score)"
   ]
  },
  {
   "cell_type": "markdown",
   "id": "49f098ca",
   "metadata": {},
   "source": [
    "## ROC Curve"
   ]
  },
  {
   "cell_type": "code",
   "execution_count": 133,
   "id": "f33b08a3",
   "metadata": {},
   "outputs": [
    {
     "data": {
      "image/png": "[encoded data removed]",
      "text/plain": [
       "<Figure size 640x480 with 1 Axes>"
      ]
     },
     "metadata": {},
     "output_type": "display_data"
    },
    {
     "name": "stdout",
     "output_type": "stream",
     "text": [
      "Area under Curve is 1.0\n"
     ]
    }
   ],
   "source": [
    "rf_train_fpr, rf_train_tpr,_=roc_curve(Y_train,best_grid.predict_proba(X_train)[:,1])\n",
    "plt.plot(rf_train_fpr,rf_train_tpr,color='green')\n",
    "plt.plot([0, 1], [0, 1], linestyle='--')\n",
    "plt.xlabel('False Positive Rate')\n",
    "plt.ylabel('True Positive Rate')\n",
    "plt.title('ROC')\n",
    "plt.show();\n",
    "rf_train_auc=roc_auc_score(Y_train,best_grid.predict_proba(X_train)[:,1])\n",
    "print('Area under Curve is', rf_train_auc)"
   ]
  },
  {
   "cell_type": "code",
   "execution_count": null,
   "id": "cc19dbcc",
   "metadata": {},
   "outputs": [],
   "source": []
  },
  {
   "cell_type": "markdown",
   "id": "aed16d68",
   "metadata": {},
   "source": [
    "# 9. Validate the Random Forest Model on test Dataset and state the performance matrices. Also state interpretation from the model"
   ]
  },
  {
   "cell_type": "markdown",
   "id": "9ef2c665",
   "metadata": {},
   "source": [
    "### RF Model evaluation on Test Data"
   ]
  },
  {
   "cell_type": "code",
   "execution_count": 134,
   "id": "db48ab18",
   "metadata": {},
   "outputs": [
    {
     "data": {
      "text/plain": [
       "array([[1107,    0],\n",
       "       [   0,  298]], dtype=int64)"
      ]
     },
     "execution_count": 134,
     "metadata": {},
     "output_type": "execute_result"
    }
   ],
   "source": [
    "confusion_matrix(Y_test,ytest_predict)"
   ]
  },
  {
   "cell_type": "code",
   "execution_count": 135,
   "id": "15ca8d54",
   "metadata": {},
   "outputs": [
    {
     "data": {
      "image/png": "[encoded data removed]",
      "text/plain": [
       "<Figure size 640x480 with 2 Axes>"
      ]
     },
     "metadata": {},
     "output_type": "display_data"
    }
   ],
   "source": [
    "ConfusionMatrixDisplay.from_estimator(grid_search,X_test,Y_test)\n",
    "plt.grid()\n",
    "plt.show();"
   ]
  },
  {
   "cell_type": "code",
   "execution_count": 136,
   "id": "ffadba98",
   "metadata": {},
   "outputs": [
    {
     "data": {
      "text/plain": [
       "1.0"
      ]
     },
     "execution_count": 136,
     "metadata": {},
     "output_type": "execute_result"
    }
   ],
   "source": [
    "rf_test_acc=best_grid.score(X_test,Y_test)\n",
    "rf_test_acc"
   ]
  },
  {
   "cell_type": "code",
   "execution_count": 137,
   "id": "d019907e",
   "metadata": {},
   "outputs": [
    {
     "name": "stdout",
     "output_type": "stream",
     "text": [
      "              precision    recall  f1-score   support\n",
      "\n",
      "           0       1.00      1.00      1.00      1107\n",
      "           1       1.00      1.00      1.00       298\n",
      "\n",
      "    accuracy                           1.00      1405\n",
      "   macro avg       1.00      1.00      1.00      1405\n",
      "weighted avg       1.00      1.00      1.00      1405\n",
      "\n"
     ]
    }
   ],
   "source": [
    "print(classification_report(Y_test,ytest_predict))"
   ]
  },
  {
   "cell_type": "code",
   "execution_count": 138,
   "id": "837de64b",
   "metadata": {},
   "outputs": [
    {
     "name": "stdout",
     "output_type": "stream",
     "text": [
      "1.0 1.0 1.0 1.0\n"
     ]
    }
   ],
   "source": [
    "rf_test_predict = best_grid.predict(X_test)\n",
    "rf_test_score = grid_search.score(X_test, Y_test) # acc score\n",
    "rf_test_recall_score = recall_score(Y_test,rf_test_predict)\n",
    "rf_test_precision_score = precision_score(Y_test,rf_test_predict)\n",
    "rf_test_f1_score = f1_score(Y_test,rf_test_predict)\n",
    "print(rf_test_score,rf_test_recall_score,rf_test_precision_score,rf_test_f1_score)"
   ]
  },
  {
   "cell_type": "code",
   "execution_count": 139,
   "id": "f14ebf5d",
   "metadata": {},
   "outputs": [
    {
     "data": {
      "image/png": "[encoded data removed]",
      "text/plain": [
       "<Figure size 640x480 with 1 Axes>"
      ]
     },
     "metadata": {},
     "output_type": "display_data"
    },
    {
     "name": "stdout",
     "output_type": "stream",
     "text": [
      "Area under Curve is 1.0\n"
     ]
    }
   ],
   "source": [
    "rf_test_fpr, rf_test_tpr,_=roc_curve(Y_test,best_grid.predict_proba(X_test)[:,1])\n",
    "plt.plot(rf_test_fpr,rf_test_tpr,color='green')\n",
    "plt.plot([0, 1], [0, 1], linestyle='--')\n",
    "plt.xlabel('False Positive Rate')\n",
    "plt.ylabel('True Positive Rate')\n",
    "plt.title('ROC')\n",
    "plt.show();\n",
    "rf_test_auc=roc_auc_score(Y_test,best_grid.predict_proba(X_test)[:,1])\n",
    "print('Area under Curve is', rf_test_auc)"
   ]
  },
  {
   "cell_type": "code",
   "execution_count": null,
   "id": "48c4fb9a",
   "metadata": {},
   "outputs": [],
   "source": []
  },
  {
   "cell_type": "markdown",
   "id": "75aec83a",
   "metadata": {},
   "source": [
    "# 10.  Comparison of Random Forest model with logistic regression model"
   ]
  },
  {
   "cell_type": "markdown",
   "id": "487d50f1",
   "metadata": {},
   "source": [
    "# Comparison of the performance metrics from the 2 models"
   ]
  },
  {
   "cell_type": "code",
   "execution_count": 140,
   "id": "088f9f43",
   "metadata": {},
   "outputs": [
    {
     "data": {
      "text/html": [
       "<div>\n",
       "<style scoped>\n",
       "    .dataframe tbody tr th:only-of-type {\n",
       "        vertical-align: middle;\n",
       "    }\n",
       "\n",
       "    .dataframe tbody tr th {\n",
       "        vertical-align: top;\n",
       "    }\n",
       "\n",
       "    .dataframe thead th {\n",
       "        text-align: right;\n",
       "    }\n",
       "</style>\n",
       "<table border=\"1\" class=\"dataframe\">\n",
       "  <thead>\n",
       "    <tr style=\"text-align: right;\">\n",
       "      <th></th>\n",
       "      <th>Logistic Train</th>\n",
       "      <th>Logistic Test</th>\n",
       "      <th>Random Forest Train</th>\n",
       "      <th>Random Forest Test</th>\n",
       "    </tr>\n",
       "  </thead>\n",
       "  <tbody>\n",
       "    <tr>\n",
       "      <th>Accuracy</th>\n",
       "      <td>1.00</td>\n",
       "      <td>1.00</td>\n",
       "      <td>1.00</td>\n",
       "      <td>1.00</td>\n",
       "    </tr>\n",
       "    <tr>\n",
       "      <th>Recall</th>\n",
       "      <td>1.00</td>\n",
       "      <td>1.00</td>\n",
       "      <td>1.00</td>\n",
       "      <td>1.00</td>\n",
       "    </tr>\n",
       "    <tr>\n",
       "      <th>Precision</th>\n",
       "      <td>0.99</td>\n",
       "      <td>0.98</td>\n",
       "      <td>1.00</td>\n",
       "      <td>1.00</td>\n",
       "    </tr>\n",
       "    <tr>\n",
       "      <th>F1 Score</th>\n",
       "      <td>0.99</td>\n",
       "      <td>0.99</td>\n",
       "      <td>1.00</td>\n",
       "      <td>1.00</td>\n",
       "    </tr>\n",
       "    <tr>\n",
       "      <th>AUC</th>\n",
       "      <td>1.00</td>\n",
       "      <td>1.00</td>\n",
       "      <td>1.00</td>\n",
       "      <td>1.00</td>\n",
       "    </tr>\n",
       "  </tbody>\n",
       "</table>\n",
       "</div>"
      ],
      "text/plain": [
       "           Logistic Train  Logistic Test  Random Forest Train  \\\n",
       "Accuracy             1.00           1.00                 1.00   \n",
       "Recall               1.00           1.00                 1.00   \n",
       "Precision            0.99           0.98                 1.00   \n",
       "F1 Score             0.99           0.99                 1.00   \n",
       "AUC                  1.00           1.00                 1.00   \n",
       "\n",
       "           Random Forest Test  \n",
       "Accuracy                 1.00  \n",
       "Recall                   1.00  \n",
       "Precision                1.00  \n",
       "F1 Score                 1.00  \n",
       "AUC                      1.00  "
      ]
     },
     "execution_count": 140,
     "metadata": {},
     "output_type": "execute_result"
    }
   ],
   "source": [
    "index=['Accuracy','Recall','Precision','F1 Score','AUC']\n",
    "data = pd.DataFrame({'Logistic Train':[log_train_score,log_train_recall_score,log_train_precision_score,log_train_f1_score,log_train_auc],\n",
    "        'Logistic Test':[log_test_score,log_test_recall_score,log_test_precision_score,log_test_f1_score,log_test_auc],\n",
    "       'Random Forest Train':[rf_train_score,rf_train_recall_score,rf_train_precision_score,rf_train_f1_score,rf_train_auc],\n",
    "        'Random Forest Test':[rf_test_score,rf_test_recall_score,rf_test_precision_score,rf_test_f1_score,rf_test_auc]},index=index)\n",
    "round(data,2)"
   ]
  },
  {
   "cell_type": "markdown",
   "id": "eed91688",
   "metadata": {},
   "source": [
    "# ROC Curve for the 2 models on the Training data"
   ]
  },
  {
   "cell_type": "code",
   "execution_count": 141,
   "id": "ded7ec8a",
   "metadata": {},
   "outputs": [
    {
     "data": {
      "image/png": "[encoded data removed]",
      "text/plain": [
       "<Figure size 640x480 with 1 Axes>"
      ]
     },
     "metadata": {},
     "output_type": "display_data"
    }
   ],
   "source": [
    "plt.plot([0, 1], [0, 1], linestyle='--')\n",
    "plt.plot(log_train_fpr, log_train_tpr,color='red',label=\"log\")\n",
    "plt.plot(rf_train_fpr,rf_train_tpr,color='green',label=\"RF\")\n",
    "plt.xlabel('False Positive Rate')\n",
    "plt.ylabel('True Positive Rate')\n",
    "plt.title('ROC')\n",
    "plt.legend(bbox_to_anchor=(0., 1.02, 1., .102), loc='lower right')\n",
    "plt.show()"
   ]
  },
  {
   "cell_type": "markdown",
   "id": "fe0ffc50",
   "metadata": {},
   "source": [
    "# ROC Curve for the 3 models on the Test data"
   ]
  },
  {
   "cell_type": "code",
   "execution_count": 143,
   "id": "513013fc",
   "metadata": {},
   "outputs": [
    {
     "data": {
      "image/png": "[encoded data removed]",
      "text/plain": [
       "<Figure size 640x480 with 1 Axes>"
      ]
     },
     "metadata": {},
     "output_type": "display_data"
    }
   ],
   "source": [
    "plt.plot([0, 1], [0, 1], linestyle='--')\n",
    "plt.plot(log_test_fpr, log_test_tpr,color='red',label=\"log\")\n",
    "plt.plot(rf_test_fpr,rf_test_tpr,color='green',label=\"RF\")\n",
    "plt.xlabel('False Positive Rate')\n",
    "plt.ylabel('True Positive Rate')\n",
    "plt.title('ROC')\n",
    "plt.legend(bbox_to_anchor=(0., 1.02, 1., .102), loc='lower right')\n",
    "plt.show()"
   ]
  },
  {
   "cell_type": "code",
   "execution_count": null,
   "id": "33045008",
   "metadata": {},
   "outputs": [],
   "source": []
  },
  {
   "cell_type": "markdown",
   "id": "5785c505",
   "metadata": {},
   "source": [
    "# END"
   ]
  },
  {
   "cell_type": "code",
   "execution_count": null,
   "id": "71c9b593",
   "metadata": {},
   "outputs": [],
   "source": []
  }
 ],
 "metadata": {
  "kernelspec": {
   "display_name": "Python 3 (ipykernel)",
   "language": "python",
   "name": "python3"
  },
  "language_info": {
   "codemirror_mode": {
    "name": "ipython",
    "version": 3
   },
   "file_extension": ".py",
   "mimetype": "text/x-python",
   "name": "python",
   "nbconvert_exporter": "python",
   "pygments_lexer": "ipython3",
   "version": "3.9.16"
  }
 },
 "nbformat": 4,
 "nbformat_minor": 5
}
